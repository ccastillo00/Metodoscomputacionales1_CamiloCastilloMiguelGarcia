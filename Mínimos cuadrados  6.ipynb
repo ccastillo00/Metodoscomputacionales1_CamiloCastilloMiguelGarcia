{
 "cells": [
  {
   "cell_type": "code",
   "execution_count": 10,
   "id": "751996e4",
   "metadata": {},
   "outputs": [],
   "source": [
    "import numpy as np\n",
    "from scipy.optimize import minimize\n",
    "\n",
    "def costo(parametros, xi, yi):\n",
    "    a0, a1, a2 = parametros\n",
    "    return np.sum((yi - a0 - a1*xi - a2*xi**2)**2)"
   ]
  },
  {
   "cell_type": "code",
   "execution_count": 11,
   "id": "fc980b02",
   "metadata": {},
   "outputs": [],
   "source": [
    "xi = np.array([1, 2, 3, 4, 5])\n",
    "yi = np.array([5, 10, 17, 28, 41])\n",
    "\n",
    "parametros_iniciales = np.array([1, 1, 1])\n",
    "resultado = minimize(costo, parametros_iniciales, args=(xi, yi), method='BFGS')"
   ]
  },
  {
   "cell_type": "code",
   "execution_count": 12,
   "id": "b2346c14",
   "metadata": {},
   "outputs": [
    {
     "name": "stdout",
     "output_type": "stream",
     "text": [
      "[3.19999755 0.42857357 1.42857107]\n"
     ]
    }
   ],
   "source": [
    "print(resultado.x)"
   ]
  },
  {
   "cell_type": "code",
   "execution_count": null,
   "id": "c95d962a",
   "metadata": {},
   "outputs": [],
   "source": []
  }
 ],
 "metadata": {
  "kernelspec": {
   "display_name": "Python 3 (ipykernel)",
   "language": "python",
   "name": "python3"
  },
  "language_info": {
   "codemirror_mode": {
    "name": "ipython",
    "version": 3
   },
   "file_extension": ".py",
   "mimetype": "text/x-python",
   "name": "python",
   "nbconvert_exporter": "python",
   "pygments_lexer": "ipython3",
   "version": "3.9.13"
  }
 },
 "nbformat": 4,
 "nbformat_minor": 5
}
