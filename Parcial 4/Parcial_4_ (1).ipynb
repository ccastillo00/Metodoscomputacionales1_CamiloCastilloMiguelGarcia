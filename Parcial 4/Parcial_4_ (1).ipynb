{
 "cells": [
  {
   "cell_type": "code",
   "execution_count": 1,
   "id": "0026190d",
   "metadata": {
    "colab": {
     "base_uri": "https://localhost:8080/"
    },
    "id": "0026190d",
    "outputId": "3267ca7e-64d4-43e4-f9f1-8163ec2e5ad1"
   },
   "outputs": [
    {
     "name": "stdout",
     "output_type": "stream",
     "text": [
      "Looking in indexes: https://pypi.org/simple, https://us-python.pkg.dev/colab-wheels/public/simple/\n",
      "Requirement already satisfied: requests in /usr/local/lib/python3.10/dist-packages (2.27.1)\n",
      "Requirement already satisfied: urllib3<1.27,>=1.21.1 in /usr/local/lib/python3.10/dist-packages (from requests) (1.26.15)\n",
      "Requirement already satisfied: certifi>=2017.4.17 in /usr/local/lib/python3.10/dist-packages (from requests) (2022.12.7)\n",
      "Requirement already satisfied: charset-normalizer~=2.0.0 in /usr/local/lib/python3.10/dist-packages (from requests) (2.0.12)\n",
      "Requirement already satisfied: idna<4,>=2.5 in /usr/local/lib/python3.10/dist-packages (from requests) (3.4)\n"
     ]
    }
   ],
   "source": [
    "pip install requests\n"
   ]
  },
  {
   "cell_type": "code",
   "execution_count": 2,
   "id": "96d882ff",
   "metadata": {
    "colab": {
     "base_uri": "https://localhost:8080/"
    },
    "id": "96d882ff",
    "outputId": "75742223-c95b-4344-9413-d224a55aa9b2"
   },
   "outputs": [
    {
     "name": "stdout",
     "output_type": "stream",
     "text": [
      "Looking in indexes: https://pypi.org/simple, https://us-python.pkg.dev/colab-wheels/public/simple/\n",
      "Requirement already satisfied: pandas in /usr/local/lib/python3.10/dist-packages (1.5.3)\n",
      "Requirement already satisfied: python-dateutil>=2.8.1 in /usr/local/lib/python3.10/dist-packages (from pandas) (2.8.2)\n",
      "Requirement already satisfied: pytz>=2020.1 in /usr/local/lib/python3.10/dist-packages (from pandas) (2022.7.1)\n",
      "Requirement already satisfied: numpy>=1.21.0 in /usr/local/lib/python3.10/dist-packages (from pandas) (1.22.4)\n",
      "Requirement already satisfied: six>=1.5 in /usr/local/lib/python3.10/dist-packages (from python-dateutil>=2.8.1->pandas) (1.16.0)\n"
     ]
    }
   ],
   "source": [
    "pip install pandas\n"
   ]
  },
  {
   "cell_type": "code",
   "execution_count": 3,
   "id": "5ea5c2c7",
   "metadata": {
    "id": "5ea5c2c7"
   },
   "outputs": [],
   "source": [
    "import numpy as np\n",
    "import scipy.optimize as spo\n",
    "import pandas as pd\n",
    "import matplotlib.pyplot as plt\n",
    "from scipy.stats import chi2"
   ]
  },
  {
   "cell_type": "code",
   "execution_count": 4,
   "id": "d5869c68",
   "metadata": {
    "colab": {
     "base_uri": "https://localhost:8080/",
     "height": 363
    },
    "id": "d5869c68",
    "outputId": "dc40e2f3-ce21-4312-a0ce-a0d84b05d112"
   },
   "outputs": [
    {
     "data": {
      "text/html": [
       "\n",
       "  <div id=\"df-964e0b4e-20e4-4f9b-bd85-456a5991e4a5\">\n",
       "    <div class=\"colab-df-container\">\n",
       "      <div>\n",
       "<style scoped>\n",
       "    .dataframe tbody tr th:only-of-type {\n",
       "        vertical-align: middle;\n",
       "    }\n",
       "\n",
       "    .dataframe tbody tr th {\n",
       "        vertical-align: top;\n",
       "    }\n",
       "\n",
       "    .dataframe thead th {\n",
       "        text-align: right;\n",
       "    }\n",
       "</style>\n",
       "<table border=\"1\" class=\"dataframe\">\n",
       "  <thead>\n",
       "    <tr style=\"text-align: right;\">\n",
       "      <th></th>\n",
       "      <th>h</th>\n",
       "      <th>angle</th>\n",
       "      <th>y</th>\n",
       "      <th>sigmay</th>\n",
       "    </tr>\n",
       "  </thead>\n",
       "  <tbody>\n",
       "    <tr>\n",
       "      <th>20</th>\n",
       "      <td>10.0</td>\n",
       "      <td>30.0</td>\n",
       "      <td>0.0013</td>\n",
       "      <td>0.0015</td>\n",
       "    </tr>\n",
       "    <tr>\n",
       "      <th>21</th>\n",
       "      <td>20.0</td>\n",
       "      <td>30.0</td>\n",
       "      <td>0.0017</td>\n",
       "      <td>0.0015</td>\n",
       "    </tr>\n",
       "    <tr>\n",
       "      <th>22</th>\n",
       "      <td>30.0</td>\n",
       "      <td>30.0</td>\n",
       "      <td>0.0038</td>\n",
       "      <td>0.0015</td>\n",
       "    </tr>\n",
       "    <tr>\n",
       "      <th>23</th>\n",
       "      <td>40.0</td>\n",
       "      <td>30.0</td>\n",
       "      <td>0.0059</td>\n",
       "      <td>0.0015</td>\n",
       "    </tr>\n",
       "    <tr>\n",
       "      <th>24</th>\n",
       "      <td>50.0</td>\n",
       "      <td>30.0</td>\n",
       "      <td>0.0067</td>\n",
       "      <td>0.0015</td>\n",
       "    </tr>\n",
       "    <tr>\n",
       "      <th>25</th>\n",
       "      <td>60.0</td>\n",
       "      <td>30.0</td>\n",
       "      <td>0.0094</td>\n",
       "      <td>0.0015</td>\n",
       "    </tr>\n",
       "    <tr>\n",
       "      <th>26</th>\n",
       "      <td>70.0</td>\n",
       "      <td>30.0</td>\n",
       "      <td>0.0122</td>\n",
       "      <td>0.0015</td>\n",
       "    </tr>\n",
       "    <tr>\n",
       "      <th>27</th>\n",
       "      <td>80.0</td>\n",
       "      <td>30.0</td>\n",
       "      <td>0.0132</td>\n",
       "      <td>0.0015</td>\n",
       "    </tr>\n",
       "    <tr>\n",
       "      <th>28</th>\n",
       "      <td>90.0</td>\n",
       "      <td>30.0</td>\n",
       "      <td>0.0151</td>\n",
       "      <td>0.0015</td>\n",
       "    </tr>\n",
       "    <tr>\n",
       "      <th>29</th>\n",
       "      <td>100.0</td>\n",
       "      <td>30.0</td>\n",
       "      <td>0.0186</td>\n",
       "      <td>0.0015</td>\n",
       "    </tr>\n",
       "  </tbody>\n",
       "</table>\n",
       "</div>\n",
       "      <button class=\"colab-df-convert\" onclick=\"convertToInteractive('df-964e0b4e-20e4-4f9b-bd85-456a5991e4a5')\"\n",
       "              title=\"Convert this dataframe to an interactive table.\"\n",
       "              style=\"display:none;\">\n",
       "        \n",
       "  <svg xmlns=\"http://www.w3.org/2000/svg\" height=\"24px\"viewBox=\"0 0 24 24\"\n",
       "       width=\"24px\">\n",
       "    <path d=\"M0 0h24v24H0V0z\" fill=\"none\"/>\n",
       "    <path d=\"M18.56 5.44l.94 2.06.94-2.06 2.06-.94-2.06-.94-.94-2.06-.94 2.06-2.06.94zm-11 1L8.5 8.5l.94-2.06 2.06-.94-2.06-.94L8.5 2.5l-.94 2.06-2.06.94zm10 10l.94 2.06.94-2.06 2.06-.94-2.06-.94-.94-2.06-.94 2.06-2.06.94z\"/><path d=\"M17.41 7.96l-1.37-1.37c-.4-.4-.92-.59-1.43-.59-.52 0-1.04.2-1.43.59L10.3 9.45l-7.72 7.72c-.78.78-.78 2.05 0 2.83L4 21.41c.39.39.9.59 1.41.59.51 0 1.02-.2 1.41-.59l7.78-7.78 2.81-2.81c.8-.78.8-2.07 0-2.86zM5.41 20L4 18.59l7.72-7.72 1.47 1.35L5.41 20z\"/>\n",
       "  </svg>\n",
       "      </button>\n",
       "      \n",
       "  <style>\n",
       "    .colab-df-container {\n",
       "      display:flex;\n",
       "      flex-wrap:wrap;\n",
       "      gap: 12px;\n",
       "    }\n",
       "\n",
       "    .colab-df-convert {\n",
       "      background-color: #E8F0FE;\n",
       "      border: none;\n",
       "      border-radius: 50%;\n",
       "      cursor: pointer;\n",
       "      display: none;\n",
       "      fill: #1967D2;\n",
       "      height: 32px;\n",
       "      padding: 0 0 0 0;\n",
       "      width: 32px;\n",
       "    }\n",
       "\n",
       "    .colab-df-convert:hover {\n",
       "      background-color: #E2EBFA;\n",
       "      box-shadow: 0px 1px 2px rgba(60, 64, 67, 0.3), 0px 1px 3px 1px rgba(60, 64, 67, 0.15);\n",
       "      fill: #174EA6;\n",
       "    }\n",
       "\n",
       "    [theme=dark] .colab-df-convert {\n",
       "      background-color: #3B4455;\n",
       "      fill: #D2E3FC;\n",
       "    }\n",
       "\n",
       "    [theme=dark] .colab-df-convert:hover {\n",
       "      background-color: #434B5C;\n",
       "      box-shadow: 0px 1px 3px 1px rgba(0, 0, 0, 0.15);\n",
       "      filter: drop-shadow(0px 1px 2px rgba(0, 0, 0, 0.3));\n",
       "      fill: #FFFFFF;\n",
       "    }\n",
       "  </style>\n",
       "\n",
       "      <script>\n",
       "        const buttonEl =\n",
       "          document.querySelector('#df-964e0b4e-20e4-4f9b-bd85-456a5991e4a5 button.colab-df-convert');\n",
       "        buttonEl.style.display =\n",
       "          google.colab.kernel.accessAllowed ? 'block' : 'none';\n",
       "\n",
       "        async function convertToInteractive(key) {\n",
       "          const element = document.querySelector('#df-964e0b4e-20e4-4f9b-bd85-456a5991e4a5');\n",
       "          const dataTable =\n",
       "            await google.colab.kernel.invokeFunction('convertToInteractive',\n",
       "                                                     [key], {});\n",
       "          if (!dataTable) return;\n",
       "\n",
       "          const docLinkHtml = 'Like what you see? Visit the ' +\n",
       "            '<a target=\"_blank\" href=https://colab.research.google.com/notebooks/data_table.ipynb>data table notebook</a>'\n",
       "            + ' to learn more about interactive tables.';\n",
       "          element.innerHTML = '';\n",
       "          dataTable['output_type'] = 'display_data';\n",
       "          await google.colab.output.renderOutput(dataTable, element);\n",
       "          const docLink = document.createElement('div');\n",
       "          docLink.innerHTML = docLinkHtml;\n",
       "          element.appendChild(docLink);\n",
       "        }\n",
       "      </script>\n",
       "    </div>\n",
       "  </div>\n",
       "  "
      ],
      "text/plain": [
       "        h  angle       y  sigmay\n",
       "20   10.0   30.0  0.0013  0.0015\n",
       "21   20.0   30.0  0.0017  0.0015\n",
       "22   30.0   30.0  0.0038  0.0015\n",
       "23   40.0   30.0  0.0059  0.0015\n",
       "24   50.0   30.0  0.0067  0.0015\n",
       "25   60.0   30.0  0.0094  0.0015\n",
       "26   70.0   30.0  0.0122  0.0015\n",
       "27   80.0   30.0  0.0132  0.0015\n",
       "28   90.0   30.0  0.0151  0.0015\n",
       "29  100.0   30.0  0.0186  0.0015"
      ]
     },
     "execution_count": 4,
     "metadata": {},
     "output_type": "execute_result"
    }
   ],
   "source": [
    "url = \"https://raw.githubusercontent.com/asegura4488/Database/main/MetodosComputacionalesReforma/DataRotacion.csv\"\n",
    "df = pd.read_csv(url)\n",
    "data_30 = df[df['angle'] == 30]\n",
    "data_30"
   ]
  },
  {
   "cell_type": "code",
   "execution_count": 4,
   "id": "Ru5gKiFHgU9J",
   "metadata": {
    "id": "Ru5gKiFHgU9J"
   },
   "outputs": [],
   "source": []
  },
  {
   "cell_type": "code",
   "execution_count": 5,
   "id": "2f56526a",
   "metadata": {
    "id": "2f56526a"
   },
   "outputs": [],
   "source": [
    "def coriolis_desviacion(h, p, lamda, g):\n",
    "    factor_constante = 2/3 * np.sqrt(2)\n",
    "    cos_latitud = np.cos(np.radians(lamda))\n",
    "    \n",
    "    desviacion = factor_constante * p * cos_latitud * np.sqrt(h**3 / g)\n",
    "    \n",
    "    return desviacion\n"
   ]
  },
  {
   "cell_type": "code",
   "execution_count": 6,
   "id": "f574da82",
   "metadata": {
    "id": "f574da82"
   },
   "outputs": [],
   "source": [
    "def chi_cuadrado(h, p, lamda, g, y, sigmay):\n",
    "    desviacion_teorica = coriolis_desviacion(h, p, lamda, g)\n",
    "    residuos = y - desviacion_teorica\n",
    "    chi2 = np.sum((residuos / sigmay) ** 2)\n",
    "    return chi2"
   ]
  },
  {
   "cell_type": "code",
   "execution_count": 7,
   "id": "c00d2a72",
   "metadata": {
    "colab": {
     "base_uri": "https://localhost:8080/"
    },
    "id": "c00d2a72",
    "outputId": "2ba803f9-12bc-43da-8131-e29a360452d9"
   },
   "outputs": [
    {
     "name": "stdout",
     "output_type": "stream",
     "text": [
      "[7.23876953e-05]\n"
     ]
    }
   ],
   "source": [
    "h = data_30.iloc[:, 0].values\n",
    "y = data_30.iloc[:, 2].values\n",
    "sigmay = data_30.iloc[:, 3].values\n",
    "lamda = data_30.iloc[:, 1].values\n",
    "g = 9.8 \n",
    "func_objetivo = lambda p: chi_cuadrado(h, p, lamda, g, y, sigmay)\n",
    "resultado = spo.minimize(func_objetivo, x0=0.0, method='Nelder-Mead')\n",
    "\n",
    "print(resultado.x)"
   ]
  },
  {
   "cell_type": "code",
   "execution_count": 9,
   "id": "LrfdKQ1F6buI",
   "metadata": {
    "colab": {
     "base_uri": "https://localhost:8080/",
     "height": 472
    },
    "id": "LrfdKQ1F6buI",
    "outputId": "b88856b6-3524-4a61-9c9b-bfad45e6e304"
   },
   "outputs": [
    {
     "data": {
      "image/png": "[encoded data removed]",
      "text/plain": [
       "<Figure size 640x480 with 1 Axes>"
      ]
     },
     "metadata": {},
     "output_type": "display_data"
    }
   ],
   "source": [
    "modelo = coriolis_desviacion(h, resultado.x, lamda, g)\n",
    "plt.errorbar(h, y, yerr=sigmay, fmt='o', label='Datos experimentales')\n",
    "plt.plot(h, modelo, label='Modelo teórico')\n",
    "plt.xlabel('Altura (h)')\n",
    "plt.ylabel('Desviación por efecto Coriolis')\n",
    "plt.title('Datos experimentales y modelo teórico')\n",
    "plt.legend()\n",
    "plt.show()"
   ]
  },
  {
   "cell_type": "code",
   "execution_count": 12,
   "id": "o5uOnvqLH1lj",
   "metadata": {
    "colab": {
     "base_uri": "https://localhost:8080/"
    },
    "id": "o5uOnvqLH1lj",
    "outputId": "ecbbd48e-b679-429f-b691-efb792bf054f"
   },
   "outputs": [
    {
     "name": "stdout",
     "output_type": "stream",
     "text": [
      "Valores remuestreados de la gravedad:\n",
      "[11.170403025586866, 10.782385799577108, 8.528103607325958, 11.094975692687335, 8.427161247581711, 7.827481358099416, 9.652556229200993, 8.428878752176917, 10.775352028123343, 10.430012582619678, 8.543410059578552, 8.188291211898123, 10.479344652619465, 7.881380789227568, 9.614120688693198, 9.192188513715505, 9.382613946124819, 10.489864766174977, 11.715980878015582, 10.323138736757617, 10.276805138666367, 8.862404761027337, 10.976003413887208, 9.598559406209732, 9.275534894074964, 8.511976909316562, 10.459697220019672, 11.180444155472372, 9.043668747396703, 8.298097875241064, 9.71775883224655, 10.649850940246186, 8.676521442833321, 9.962664521927186, 11.037751424151256, 8.884192567788789, 9.596659599484859, 9.757268817098273, 8.297810907232531, 9.609763900013627, 9.763400276383411, 8.051828516722232, 7.239051101751613, 10.676656147514347, 9.220953284702158, 11.728417598174643, 9.918823318873919, 10.606010565785184, 9.075924753242127, 10.072462806023639, 8.256222174131524, 10.70418013153034, 9.88096313356815, 9.52294010457745, 10.520739705716109, 9.735675101550855, 10.219018721249762, 9.695967282042995, 9.101183134332402, 7.528399707249843, 9.552585193589286, 9.765407984658594, 10.540958607932868, 8.898991055942512, 8.042223965476854, 11.427784908179708, 12.694083032439988, 10.289087024730785, 8.51820204908468, 10.238615889373794, 9.00638096284353, 8.327251762177053, 9.840664949755531, 10.611042210222124, 10.145291857949289, 9.287426357741866, 10.238635166214074, 9.659700624948636, 8.04324510084614, 10.574275257953381, 10.332270647673512, 10.006165825080524, 9.673172589841576, 10.196324433413677, 9.726250106473646, 10.918169841071466, 7.91091499402944, 9.642553269740057, 9.583459472525337, 9.286909675322724, 9.448955253727117, 8.036825773286179, 9.459880164087611, 10.167801251651037, 9.226216159596008, 11.399665894642883, 10.307823107044802, 9.303731421837496, 8.20283755230399, 10.194190021885095, 8.935488064204334, 8.949933562223995, 10.298347205912894, 9.450503366846764, 9.34463906588143, 8.910792387223688, 10.03547303892824, 10.485134471843338, 12.037272564860412, 8.13861543231788, 11.373674494090782, 10.287257640408827, 9.437945416975433, 8.719982797089703, 8.907449285988752, 9.067698398317523, 10.450536005868635, 10.133564375229952, 10.325043198214964, 7.864286783613066, 10.488798628848844, 10.308975177262592, 10.796192013063479, 9.090169432250834, 11.870783980690263, 11.1027512036791, 11.422703180464023, 12.193806472891902, 9.060023971111695, 8.767154598150286, 9.618947599860979, 8.963866970747054, 8.782983356008762, 10.02087221382731, 9.9727847481008, 8.744222160728127, 8.879426683193234, 8.100146018716492, 11.02737524001813, 10.683283461019027, 8.878007422310164, 9.777105852167528, 9.313771990083207, 11.995699146314365, 9.976364720873796, 9.983575929161834, 7.488054021919269, 10.076776950337445, 9.894994720193319, 8.569804100597747, 8.109018865534013, 9.391995896749386, 10.513840271884874, 11.342082254791103, 9.360131378572643, 10.24718955267603, 10.461745942710321, 10.31417451838653, 10.438507867314117, 8.700821134418803, 8.909729125476074, 9.93151036787494, 10.79542730570224, 11.965608894781214, 9.90697695391207, 11.321055345667794, 8.326314297981803, 10.066935854240738, 9.78607407908298, 10.35647295594646, 10.80610794011624, 8.641705607438242, 8.406260845885196, 10.201091251176862, 10.19618341036612, 9.754613137518907, 10.8594222973601, 9.427993915837783, 9.763509262790278, 10.684094629678231, 10.156573269520925, 11.521425673585627, 10.10657527062676, 11.384860488059326, 10.84986882787852, 9.728710048499785, 8.616965350791972, 7.469728292079811, 9.1140864395821, 8.985959178872914, 9.87553939220044, 7.602676002794531, 9.741859625496634, 9.593850550914809, 8.982325768387385, 9.759639835174516, 9.170111079381321, 7.523153290254102, 9.156144946641765, 12.057387000064166, 9.619057904690267, 9.358301929305847, 9.682811372246912, 11.583266706466894, 10.654225306741896, 10.305887795752334, 8.870492427869841, 10.933584923082083, 11.569262089510355, 10.582630472622803, 9.372006147481397, 9.79060632518483, 10.00761775835029, 8.63005303714672, 10.115161375196791, 9.219008097643957, 9.404671659635328, 7.776500271083197, 10.838313426158686, 8.465988512536855, 10.145526130417814, 11.932511490457175, 11.212157893314693, 10.215847652739942, 8.53901940491209, 8.263473431581186, 11.42250165499368, 10.95450529251229, 9.755988002749152, 10.937060525163222, 9.735603635862304, 9.348904067415294, 8.300772231656557, 9.224844399242341, 10.587029400769069, 9.965342173104707, 9.08790237939538, 10.537713497406065, 11.151985571956724, 9.181650451320234, 9.613444427924916, 9.00281457771863, 10.682354079495287, 10.19299823177535, 9.419830456169619, 9.78615897124916, 9.411228761235737, 9.722574016522378, 8.805898870106605, 9.38235393056195, 11.791250644325691, 10.169134768028034, 10.106560669938977, 10.70771644298396, 9.457670936573484, 9.907006577506449, 8.230863049734639, 9.888867402509629, 10.071297890321583, 9.369842855048471, 8.396106043250727, 9.13944516439598, 10.762989306641746, 7.640749520256583, 10.808851132873084, 10.15120536794869, 9.935160581387555, 7.930310617710026, 10.001464081240988, 9.506529671723566, 9.21907875911181, 9.707920284797883, 7.563529220269171, 8.92394365643396, 10.217543970400383, 8.231048265660164, 7.832435822616881, 8.934870811184174, 10.907597261277568, 9.200383808753992, 9.72833095543991, 8.621534693965607, 9.562708026004728, 10.75071426640615, 9.877098695790004, 8.041614156843975, 10.12835062902777, 10.015984465338414, 11.047176801680905, 9.04466511663214, 10.558110366214386, 10.363502071665092, 9.669446319693899, 7.195948313085031, 8.590725048218067, 9.440111107659645, 9.582711901695347, 10.505590994101366, 9.110374972252385, 10.656038011522611]\n"
     ]
    }
   ],
   "source": [
    "N = 300  \n",
    "gravedad_remuestreada = []\n",
    "for i in range(N):\n",
    "    gravedad_remuestreada.append(g + np.random.normal(loc=0, scale=1))\n",
    "print(\"Valores remuestreados de la gravedad:\")\n",
    "print(gravedad_remuestreada)"
   ]
  },
  {
   "cell_type": "code",
   "execution_count": 14,
   "id": "E40phijUIEnf",
   "metadata": {
    "id": "E40phijUIEnf"
   },
   "outputs": [],
   "source": [
    "Gravedad = np.zeros(N)\n",
    "for i in range(N):\n",
    "    Gravedad[i] = 9.81 + np.random.normal(loc=0, scale=1)"
   ]
  },
  {
   "cell_type": "code",
   "execution_count": 31,
   "id": "3c7934c9",
   "metadata": {
    "id": "3c7934c9"
   },
   "outputs": [],
   "source": [
    "y_modificado = y + np.random.normal(loc=0, scale=sigmay[0], size=len(y))"
   ]
  },
  {
   "cell_type": "code",
   "execution_count": 43,
   "id": "04997287",
   "metadata": {},
   "outputs": [
    {
     "data": {
      "text/plain": [
       "array([0.06767528, 0.06767528, 0.06767528, 0.06767528, 0.06767528,\n",
       "       0.06767528, 0.06767528, 0.06767528, 0.06767528, 0.06767528,\n",
       "       0.06767528, 0.06767528, 0.06767528, 0.06767528, 0.06767528,\n",
       "       0.06767528, 0.06767528, 0.06767528, 0.06767528, 0.06767528,\n",
       "       0.06767528, 0.06767528, 0.06767528, 0.06767528, 0.06767528,\n",
       "       0.06767528, 0.06767528, 0.06767528, 0.06767528, 0.06767528,\n",
       "       0.06767528, 0.06767528, 0.06767528, 0.06767528, 0.06767528,\n",
       "       0.06767528, 0.06767528, 0.06767528, 0.06767528, 0.06767528,\n",
       "       0.06767528, 0.06767528, 0.06767528, 0.06767528, 0.06767528,\n",
       "       0.06767528, 0.06767528, 0.06767528, 0.06767528, 0.06767528,\n",
       "       0.06767528, 0.06767528, 0.06767528, 0.06767528, 0.06767528,\n",
       "       0.06767528, 0.06767528, 0.06767528, 0.06767528, 0.06767528,\n",
       "       0.06767528, 0.06767528, 0.06767528, 0.06767528, 0.06767528,\n",
       "       0.06767528, 0.06767528, 0.06767528, 0.06767528, 0.06767528,\n",
       "       0.06767528, 0.06767528, 0.06767528, 0.06767528, 0.06767528,\n",
       "       0.06767528, 0.06767528, 0.06767528, 0.06767528, 0.06767528,\n",
       "       0.06767528, 0.06767528, 0.06767528, 0.06767528, 0.06767528,\n",
       "       0.06767528, 0.06767528, 0.06767528, 0.06767528, 0.06767528,\n",
       "       0.06767528, 0.06767528, 0.06767528, 0.06767528, 0.06767528,\n",
       "       0.06767528, 0.06767528, 0.06767528, 0.06767528, 0.06767528,\n",
       "       0.06767528, 0.06767528, 0.06767528, 0.06767528, 0.06767528,\n",
       "       0.06767528, 0.06767528, 0.06767528, 0.06767528, 0.06767528,\n",
       "       0.06767528, 0.06767528, 0.06767528, 0.06767528, 0.06767528,\n",
       "       0.06767528, 0.06767528, 0.06767528, 0.06767528, 0.06767528,\n",
       "       0.06767528, 0.06767528, 0.06767528, 0.06767528, 0.06767528,\n",
       "       0.06767528, 0.06767528, 0.06767528, 0.06767528, 0.06767528,\n",
       "       0.06767528, 0.06767528, 0.06767528, 0.06767528, 0.06767528,\n",
       "       0.06767528, 0.06767528, 0.06767528, 0.06767528, 0.06767528,\n",
       "       0.06767528, 0.06767528, 0.06767528, 0.06767528, 0.06767528,\n",
       "       0.06767528, 0.06767528, 0.06767528, 0.06767528, 0.06767528,\n",
       "       0.06767528, 0.06767528, 0.06767528, 0.06767528, 0.06767528,\n",
       "       0.06767528, 0.06767528, 0.06767528, 0.06767528, 0.06767528,\n",
       "       0.06767528, 0.06767528, 0.06767528, 0.06767528, 0.06767528,\n",
       "       0.06767528, 0.06767528, 0.06767528, 0.06767528, 0.06767528,\n",
       "       0.06767528, 0.06767528, 0.06767528, 0.06767528, 0.06767528,\n",
       "       0.06767528, 0.06767528, 0.06767528, 0.06767528, 0.06767528,\n",
       "       0.06767528, 0.06767528, 0.06767528, 0.06767528, 0.06767528,\n",
       "       0.06767528, 0.06767528, 0.06767528, 0.06767528, 0.06767528,\n",
       "       0.06767528, 0.06767528, 0.06767528, 0.06767528, 0.06767528,\n",
       "       0.06767528, 0.06767528, 0.06767528, 0.06767528, 0.06767528,\n",
       "       0.06767528, 0.06767528, 0.06767528, 0.06767528, 0.06767528,\n",
       "       0.06767528, 0.06767528, 0.06767528, 0.06767528, 0.06767528,\n",
       "       0.06767528, 0.06767528, 0.06767528, 0.06767528, 0.06767528,\n",
       "       0.06767528, 0.06767528, 0.06767528, 0.06767528, 0.06767528,\n",
       "       0.06767528, 0.06767528, 0.06767528, 0.06767528, 0.06767528,\n",
       "       0.06767528, 0.06767528, 0.06767528, 0.06767528, 0.06767528,\n",
       "       0.06767528, 0.06767528, 0.06767528, 0.06767528, 0.06767528,\n",
       "       0.06767528, 0.06767528, 0.06767528, 0.06767528, 0.06767528,\n",
       "       0.06767528, 0.06767528, 0.06767528, 0.06767528, 0.06767528,\n",
       "       0.06767528, 0.06767528, 0.06767528, 0.06767528, 0.06767528,\n",
       "       0.06767528, 0.06767528, 0.06767528, 0.06767528, 0.06767528,\n",
       "       0.06767528, 0.06767528, 0.06767528, 0.06767528, 0.06767528,\n",
       "       0.06767528, 0.06767528, 0.06767528, 0.06767528, 0.06767528,\n",
       "       0.06767528, 0.06767528, 0.06767528, 0.06767528, 0.06767528,\n",
       "       0.06767528, 0.06767528, 0.06767528, 0.06767528, 0.06767528,\n",
       "       0.06767528, 0.06767528, 0.06767528, 0.06767528, 0.06767528,\n",
       "       0.06767528, 0.06767528, 0.06767528, 0.06767528, 0.06767528,\n",
       "       0.06767528, 0.06767528, 0.06767528, 0.06767528, 0.06767528,\n",
       "       0.06767528, 0.06767528, 0.06767528, 0.06767528, 0.06767528,\n",
       "       0.06767528, 0.06767528, 0.06767528, 0.06767528, 0.06767528])"
      ]
     },
     "execution_count": 43,
     "metadata": {},
     "output_type": "execute_result"
    }
   ],
   "source": [
    "Omega = []\n",
    "\n",
    "# Realizar la optimización y obtener el valor estimado de la rapidez angular\n",
    "for i in range(N):\n",
    "    # Generar un valor de gravedad siguiendo la distribución normal\n",
    "    Gravedad = 9.81 + np.random.normal(loc=0, scale=1)\n",
    "    \n",
    "    # Realizar la optimización\n",
    "    result = optimize.minimize(chi_cuadrado, p_initial, args=(h, y_modificado, sigmay, lamda, 9.81 + np.random.normal(loc=0, scale=1)))\n",
    "    \n",
    "    # Obtener el valor estimado de la rapidez angular y almacenarlo en Omega\n",
    "    Omega.append(result.x[0])\n",
    "\n",
    "# Convertir Omega a un array numpy\n",
    "Omega = np.array(Omega)\n",
    "Omega"
   ]
  },
  {
   "cell_type": "code",
   "execution_count": 47,
   "id": "43dec48b",
   "metadata": {},
   "outputs": [
    {
     "ename": "ValueError",
     "evalue": "The dimension of bins must be equal to the dimension of the  sample x.",
     "output_type": "error",
     "traceback": [
      "\u001b[0;31m---------------------------------------------------------------------------\u001b[0m",
      "\u001b[0;31mValueError\u001b[0m                                Traceback (most recent call last)",
      "\u001b[0;32m/var/folders/8t/r6r_fhjj7nsb8t27h9nh1x940000gn/T/ipykernel_7440/1983550664.py\u001b[0m in \u001b[0;36m<module>\u001b[0;34m\u001b[0m\n\u001b[1;32m      1\u001b[0m \u001b[0;31m# Generar la distribución conjunta f(ω, g)\u001b[0m\u001b[0;34m\u001b[0m\u001b[0;34m\u001b[0m\u001b[0m\n\u001b[0;32m----> 2\u001b[0;31m \u001b[0mH2\u001b[0m\u001b[0;34m,\u001b[0m \u001b[0mbinsx\u001b[0m\u001b[0;34m,\u001b[0m \u001b[0mbinsy\u001b[0m \u001b[0;34m=\u001b[0m \u001b[0mnp\u001b[0m\u001b[0;34m.\u001b[0m\u001b[0mhistogram2d\u001b[0m\u001b[0;34m(\u001b[0m\u001b[0mOmega\u001b[0m\u001b[0;34m,\u001b[0m \u001b[0mGravedad\u001b[0m\u001b[0;34m,\u001b[0m \u001b[0mbins\u001b[0m\u001b[0;34m=\u001b[0m\u001b[0;34m(\u001b[0m\u001b[0;36m20\u001b[0m\u001b[0;34m,\u001b[0m \u001b[0;36m30\u001b[0m\u001b[0;34m)\u001b[0m\u001b[0;34m)\u001b[0m\u001b[0;34m\u001b[0m\u001b[0;34m\u001b[0m\u001b[0m\n\u001b[0m\u001b[1;32m      3\u001b[0m \u001b[0;34m\u001b[0m\u001b[0m\n\u001b[1;32m      4\u001b[0m \u001b[0;31m# Visualizar la distribución conjunta\u001b[0m\u001b[0;34m\u001b[0m\u001b[0;34m\u001b[0m\u001b[0m\n\u001b[1;32m      5\u001b[0m \u001b[0mplt\u001b[0m\u001b[0;34m.\u001b[0m\u001b[0mimshow\u001b[0m\u001b[0;34m(\u001b[0m\u001b[0mH2\u001b[0m\u001b[0;34m.\u001b[0m\u001b[0mT\u001b[0m\u001b[0;34m,\u001b[0m \u001b[0morigin\u001b[0m\u001b[0;34m=\u001b[0m\u001b[0;34m'lower'\u001b[0m\u001b[0;34m,\u001b[0m \u001b[0mextent\u001b[0m\u001b[0;34m=\u001b[0m\u001b[0;34m[\u001b[0m\u001b[0mbinsx\u001b[0m\u001b[0;34m[\u001b[0m\u001b[0;36m0\u001b[0m\u001b[0;34m]\u001b[0m\u001b[0;34m,\u001b[0m \u001b[0mbinsx\u001b[0m\u001b[0;34m[\u001b[0m\u001b[0;36m1\u001b[0m\u001b[0;34m]\u001b[0m\u001b[0;34m,\u001b[0m \u001b[0mbinsy\u001b[0m\u001b[0;34m[\u001b[0m\u001b[0;36m0\u001b[0m\u001b[0;34m]\u001b[0m\u001b[0;34m,\u001b[0m \u001b[0mbinsy\u001b[0m\u001b[0;34m[\u001b[0m\u001b[0;34m-\u001b[0m\u001b[0;36m1\u001b[0m\u001b[0;34m]\u001b[0m\u001b[0;34m]\u001b[0m\u001b[0;34m,\u001b[0m \u001b[0maspect\u001b[0m\u001b[0;34m=\u001b[0m\u001b[0;34m'auto'\u001b[0m\u001b[0;34m,\u001b[0m \u001b[0mcmap\u001b[0m\u001b[0;34m=\u001b[0m\u001b[0;34m'Blues'\u001b[0m\u001b[0;34m)\u001b[0m\u001b[0;34m\u001b[0m\u001b[0;34m\u001b[0m\u001b[0m\n",
      "\u001b[0;32m<__array_function__ internals>\u001b[0m in \u001b[0;36mhistogram2d\u001b[0;34m(*args, **kwargs)\u001b[0m\n",
      "\u001b[0;32m/opt/anaconda3/lib/python3.9/site-packages/numpy/lib/twodim_base.py\u001b[0m in \u001b[0;36mhistogram2d\u001b[0;34m(x, y, bins, range, normed, weights, density)\u001b[0m\n\u001b[1;32m    749\u001b[0m         \u001b[0mxedges\u001b[0m \u001b[0;34m=\u001b[0m \u001b[0myedges\u001b[0m \u001b[0;34m=\u001b[0m \u001b[0masarray\u001b[0m\u001b[0;34m(\u001b[0m\u001b[0mbins\u001b[0m\u001b[0;34m)\u001b[0m\u001b[0;34m\u001b[0m\u001b[0;34m\u001b[0m\u001b[0m\n\u001b[1;32m    750\u001b[0m         \u001b[0mbins\u001b[0m \u001b[0;34m=\u001b[0m \u001b[0;34m[\u001b[0m\u001b[0mxedges\u001b[0m\u001b[0;34m,\u001b[0m \u001b[0myedges\u001b[0m\u001b[0;34m]\u001b[0m\u001b[0;34m\u001b[0m\u001b[0;34m\u001b[0m\u001b[0m\n\u001b[0;32m--> 751\u001b[0;31m     \u001b[0mhist\u001b[0m\u001b[0;34m,\u001b[0m \u001b[0medges\u001b[0m \u001b[0;34m=\u001b[0m \u001b[0mhistogramdd\u001b[0m\u001b[0;34m(\u001b[0m\u001b[0;34m[\u001b[0m\u001b[0mx\u001b[0m\u001b[0;34m,\u001b[0m \u001b[0my\u001b[0m\u001b[0;34m]\u001b[0m\u001b[0;34m,\u001b[0m \u001b[0mbins\u001b[0m\u001b[0;34m,\u001b[0m \u001b[0mrange\u001b[0m\u001b[0;34m,\u001b[0m \u001b[0mnormed\u001b[0m\u001b[0;34m,\u001b[0m \u001b[0mweights\u001b[0m\u001b[0;34m,\u001b[0m \u001b[0mdensity\u001b[0m\u001b[0;34m)\u001b[0m\u001b[0;34m\u001b[0m\u001b[0;34m\u001b[0m\u001b[0m\n\u001b[0m\u001b[1;32m    752\u001b[0m     \u001b[0;32mreturn\u001b[0m \u001b[0mhist\u001b[0m\u001b[0;34m,\u001b[0m \u001b[0medges\u001b[0m\u001b[0;34m[\u001b[0m\u001b[0;36m0\u001b[0m\u001b[0;34m]\u001b[0m\u001b[0;34m,\u001b[0m \u001b[0medges\u001b[0m\u001b[0;34m[\u001b[0m\u001b[0;36m1\u001b[0m\u001b[0;34m]\u001b[0m\u001b[0;34m\u001b[0m\u001b[0;34m\u001b[0m\u001b[0m\n\u001b[1;32m    753\u001b[0m \u001b[0;34m\u001b[0m\u001b[0m\n",
      "\u001b[0;32m<__array_function__ internals>\u001b[0m in \u001b[0;36mhistogramdd\u001b[0;34m(*args, **kwargs)\u001b[0m\n",
      "\u001b[0;32m/opt/anaconda3/lib/python3.9/site-packages/numpy/lib/histograms.py\u001b[0m in \u001b[0;36mhistogramdd\u001b[0;34m(sample, bins, range, normed, weights, density)\u001b[0m\n\u001b[1;32m   1029\u001b[0m         \u001b[0mM\u001b[0m \u001b[0;34m=\u001b[0m \u001b[0mlen\u001b[0m\u001b[0;34m(\u001b[0m\u001b[0mbins\u001b[0m\u001b[0;34m)\u001b[0m\u001b[0;34m\u001b[0m\u001b[0;34m\u001b[0m\u001b[0m\n\u001b[1;32m   1030\u001b[0m         \u001b[0;32mif\u001b[0m \u001b[0mM\u001b[0m \u001b[0;34m!=\u001b[0m \u001b[0mD\u001b[0m\u001b[0;34m:\u001b[0m\u001b[0;34m\u001b[0m\u001b[0;34m\u001b[0m\u001b[0m\n\u001b[0;32m-> 1031\u001b[0;31m             raise ValueError(\n\u001b[0m\u001b[1;32m   1032\u001b[0m                 \u001b[0;34m'The dimension of bins must be equal to the dimension of the '\u001b[0m\u001b[0;34m\u001b[0m\u001b[0;34m\u001b[0m\u001b[0m\n\u001b[1;32m   1033\u001b[0m                 ' sample x.')\n",
      "\u001b[0;31mValueError\u001b[0m: The dimension of bins must be equal to the dimension of the  sample x."
     ]
    }
   ],
   "source": [
    "\n",
    "H2, binsx, binsy = np.histogram2d(Omega, Gravedad, bins=(20, 30))\n",
    "\n",
    "\n",
    "plt.imshow(H2.T, origin='lower', extent=[binsx[0], binsx[1], binsy[0], binsy[-1]], aspect='auto', cmap='Blues')\n",
    "plt.xlabel('Rapidez Angular (ω)')\n",
    "plt.ylabel('Gravedad (g)')\n",
    "plt.colorbar(label='Frecuencia')\n",
    "plt.title('Distribución Conjunta f(ω, g)')\n",
    "plt.show()\n"
   ]
  },
  {
   "cell_type": "code",
   "execution_count": 49,
   "id": "8d707a27",
   "metadata": {},
   "outputs": [],
   "source": [
    "cs = np.cumsum(H1)\n"
   ]
  },
  {
   "cell_type": "code",
   "execution_count": 52,
   "id": "4af30f9f",
   "metadata": {},
   "outputs": [],
   "source": [
    "ij = np.searchsorted( cs, np.percentile(cs,16) )\n",
    "ii = np.searchsorted( cs, np.percentile(cs,50) )\n",
    "ji = np.searchsorted( cs, np.percentile(cs,84) )"
   ]
  },
  {
   "cell_type": "code",
   "execution_count": 53,
   "id": "9da689b4",
   "metadata": {},
   "outputs": [
    {
     "name": "stdout",
     "output_type": "stream",
     "text": [
      "Mejor estimador: 6.77e-02\n",
      "Intervalo de confianza a 1σ: [6.77e-02, 6.77e-02]\n"
     ]
    }
   ],
   "source": [
    "mejor_estimador = binsx[ii]\n",
    "intervalo_confianza = [binsx[ij], binsx[ji]]\n",
    "\n",
    "print(\"Mejor estimador: {:.2e}\".format(mejor_estimador))\n",
    "print(\"Intervalo de confianza a 1σ: [{:.2e}, {:.2e}]\".format(intervalo_confianza[0], intervalo_confianza[1]))\n"
   ]
  }
 ],
 "metadata": {
  "colab": {
   "provenance": []
  },
  "kernelspec": {
   "display_name": "Python 3 (ipykernel)",
   "language": "python",
   "name": "python3"
  },
  "language_info": {
   "codemirror_mode": {
    "name": "ipython",
    "version": 3
   },
   "file_extension": ".py",
   "mimetype": "text/x-python",
   "name": "python",
   "nbconvert_exporter": "python",
   "pygments_lexer": "ipython3",
   "version": "3.10.9"
  }
 },
 "nbformat": 4,
 "nbformat_minor": 5
}
