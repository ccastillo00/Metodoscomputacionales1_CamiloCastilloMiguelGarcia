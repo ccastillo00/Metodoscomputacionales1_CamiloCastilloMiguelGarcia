{
 "cells": [
  {
   "cell_type": "code",
   "execution_count": 1,
   "id": "5ea5c2c7",
   "metadata": {
    "id": "5ea5c2c7"
   },
   "outputs": [],
   "source": [
    "import numpy as np\n",
    "import scipy.optimize as spo\n",
    "import pandas as pd\n",
    "import matplotlib.pyplot as plt\n",
    "from scipy.stats import chi2\n",
    "from tqdm import tqdm"
   ]
  },
  {
   "cell_type": "code",
   "execution_count": null,
   "id": "52a80004",
   "metadata": {},
   "outputs": [],
   "source": []
  },
  {
   "cell_type": "code",
   "execution_count": 2,
   "id": "d5869c68",
   "metadata": {
    "colab": {
     "base_uri": "https://localhost:8080/",
     "height": 363
    },
    "id": "d5869c68",
    "outputId": "dc34821b-eb8a-4914-c328-43ad66fab6b5"
   },
   "outputs": [
    {
     "data": {
      "text/html": [
       "<div>\n",
       "<style scoped>\n",
       "    .dataframe tbody tr th:only-of-type {\n",
       "        vertical-align: middle;\n",
       "    }\n",
       "\n",
       "    .dataframe tbody tr th {\n",
       "        vertical-align: top;\n",
       "    }\n",
       "\n",
       "    .dataframe thead th {\n",
       "        text-align: right;\n",
       "    }\n",
       "</style>\n",
       "<table border=\"1\" class=\"dataframe\">\n",
       "  <thead>\n",
       "    <tr style=\"text-align: right;\">\n",
       "      <th></th>\n",
       "      <th>h</th>\n",
       "      <th>angle</th>\n",
       "      <th>y</th>\n",
       "      <th>sigmay</th>\n",
       "    </tr>\n",
       "  </thead>\n",
       "  <tbody>\n",
       "    <tr>\n",
       "      <th>20</th>\n",
       "      <td>10.0</td>\n",
       "      <td>30.0</td>\n",
       "      <td>0.0013</td>\n",
       "      <td>0.0015</td>\n",
       "    </tr>\n",
       "    <tr>\n",
       "      <th>21</th>\n",
       "      <td>20.0</td>\n",
       "      <td>30.0</td>\n",
       "      <td>0.0017</td>\n",
       "      <td>0.0015</td>\n",
       "    </tr>\n",
       "    <tr>\n",
       "      <th>22</th>\n",
       "      <td>30.0</td>\n",
       "      <td>30.0</td>\n",
       "      <td>0.0038</td>\n",
       "      <td>0.0015</td>\n",
       "    </tr>\n",
       "    <tr>\n",
       "      <th>23</th>\n",
       "      <td>40.0</td>\n",
       "      <td>30.0</td>\n",
       "      <td>0.0059</td>\n",
       "      <td>0.0015</td>\n",
       "    </tr>\n",
       "    <tr>\n",
       "      <th>24</th>\n",
       "      <td>50.0</td>\n",
       "      <td>30.0</td>\n",
       "      <td>0.0067</td>\n",
       "      <td>0.0015</td>\n",
       "    </tr>\n",
       "    <tr>\n",
       "      <th>25</th>\n",
       "      <td>60.0</td>\n",
       "      <td>30.0</td>\n",
       "      <td>0.0094</td>\n",
       "      <td>0.0015</td>\n",
       "    </tr>\n",
       "    <tr>\n",
       "      <th>26</th>\n",
       "      <td>70.0</td>\n",
       "      <td>30.0</td>\n",
       "      <td>0.0122</td>\n",
       "      <td>0.0015</td>\n",
       "    </tr>\n",
       "    <tr>\n",
       "      <th>27</th>\n",
       "      <td>80.0</td>\n",
       "      <td>30.0</td>\n",
       "      <td>0.0132</td>\n",
       "      <td>0.0015</td>\n",
       "    </tr>\n",
       "    <tr>\n",
       "      <th>28</th>\n",
       "      <td>90.0</td>\n",
       "      <td>30.0</td>\n",
       "      <td>0.0151</td>\n",
       "      <td>0.0015</td>\n",
       "    </tr>\n",
       "    <tr>\n",
       "      <th>29</th>\n",
       "      <td>100.0</td>\n",
       "      <td>30.0</td>\n",
       "      <td>0.0186</td>\n",
       "      <td>0.0015</td>\n",
       "    </tr>\n",
       "  </tbody>\n",
       "</table>\n",
       "</div>"
      ],
      "text/plain": [
       "        h  angle       y  sigmay\n",
       "20   10.0   30.0  0.0013  0.0015\n",
       "21   20.0   30.0  0.0017  0.0015\n",
       "22   30.0   30.0  0.0038  0.0015\n",
       "23   40.0   30.0  0.0059  0.0015\n",
       "24   50.0   30.0  0.0067  0.0015\n",
       "25   60.0   30.0  0.0094  0.0015\n",
       "26   70.0   30.0  0.0122  0.0015\n",
       "27   80.0   30.0  0.0132  0.0015\n",
       "28   90.0   30.0  0.0151  0.0015\n",
       "29  100.0   30.0  0.0186  0.0015"
      ]
     },
     "execution_count": 2,
     "metadata": {},
     "output_type": "execute_result"
    }
   ],
   "source": [
    "url = \"https://raw.githubusercontent.com/asegura4488/Database/main/MetodosComputacionalesReforma/DataRotacion.csv\"\n",
    "df = pd.read_csv(url)\n",
    "data_30 = df[df['angle'] == 30]\n",
    "data_30"
   ]
  },
  {
   "cell_type": "code",
   "execution_count": 3,
   "id": "2f56526a",
   "metadata": {
    "id": "2f56526a"
   },
   "outputs": [],
   "source": [
    "def coriolis_desviacion(h, p, lamda, g):\n",
    "    factor_constante = 2/3 * np.sqrt(2)\n",
    "    cos_latitud = np.cos(np.radians(lamda))\n",
    "    \n",
    "    desviacion = factor_constante * p * cos_latitud * np.sqrt(h**3 / g)\n",
    "    \n",
    "    return desviacion\n"
   ]
  },
  {
   "cell_type": "code",
   "execution_count": 4,
   "id": "f574da82",
   "metadata": {
    "id": "f574da82"
   },
   "outputs": [],
   "source": [
    "def chi_cuadrado(h, p, lamda, g, y, sigmay):\n",
    "    desviacion_teorica = coriolis_desviacion(h, p, lamda, g)\n",
    "    residuos = y - desviacion_teorica\n",
    "    chi2 = np.sum((residuos / sigmay) ** 2)\n",
    "    return chi2\n"
   ]
  },
  {
   "cell_type": "code",
   "execution_count": 5,
   "id": "c00d2a72",
   "metadata": {
    "colab": {
     "base_uri": "https://localhost:8080/",
     "height": 240
    },
    "id": "c00d2a72",
    "outputId": "f4e3022f-4912-436f-9a16-f357d6a88455"
   },
   "outputs": [
    {
     "name": "stdout",
     "output_type": "stream",
     "text": [
      "[7.24315643e-05]\n"
     ]
    }
   ],
   "source": [
    "h = data_30.iloc[:, 0].values\n",
    "y = data_30.iloc[:, 2].values\n",
    "sigmay = data_30.iloc[:, 3].values\n",
    "lamda = data_30.iloc[:, 1].values\n",
    "g = 9.8 \n",
    "func_objetivo = lambda p: chi_cuadrado(h, p, lamda, g, y, sigmay)\n",
    "resultado = spo.minimize(func_objetivo, x0=1, method='Nelder-Mead')\n",
    "\n",
    "print(resultado.x)"
   ]
  },
  {
   "cell_type": "code",
   "execution_count": 6,
   "id": "04c1702f",
   "metadata": {},
   "outputs": [],
   "source": [
    "\n",
    "modelo=coriolis_desviacion(h,resultado.x,lamda,g)"
   ]
  },
  {
   "cell_type": "code",
   "execution_count": 7,
   "id": "3c7934c9",
   "metadata": {
    "id": "3c7934c9"
   },
   "outputs": [
    {
     "data": {
      "image/png": "[encoded data removed]",
      "text/plain": [
       "<Figure size 640x480 with 1 Axes>"
      ]
     },
     "metadata": {},
     "output_type": "display_data"
    }
   ],
   "source": [
    "plt.errorbar(h, y, yerr=sigmay, fmt='o', label='Datos observados')\n",
    "plt.plot(h,modelo,'r')\n",
    "plt.xlabel('Altura (h)')\n",
    "plt.ylabel('Desviación (y)')\n",
    "plt.title('Datos observados y modelo teórico para λ = 30')\n",
    "plt.legend()\n",
    "plt.grid(True)\n",
    "plt.show()"
   ]
  },
  {
   "cell_type": "code",
   "execution_count": 8,
   "id": "7299e194",
   "metadata": {},
   "outputs": [
    {
     "name": "stderr",
     "output_type": "stream",
     "text": [
      "100%|███████████████████████████████████████████████████████████████████████████████| 300/300 [00:00<00:00, 630.63it/s]\n"
     ]
    }
   ],
   "source": [
    "N = 300\n",
    "Gravedad = np.array([])\n",
    "for i in range(N):\n",
    "     Gravedad = np.append(9.81 + np.random.normal(loc=0,scale=1),Gravedad)\n",
    "Omega=np.zeros(N)\n",
    "for i in tqdm(range(N)):\n",
    "   \n",
    "    Y=y + np.random.normal( loc=0, scale=sigmay[0], size=len(y) )\n",
    "    func_objetivoit = lambda p: chi_cuadrado(h, p, lamda, Gravedad[i], Y, sigmay)\n",
    "    result_it=spo.minimize(func_objetivoit, x0=1e-5, method='Nelder-Mead')\n",
    "    Omega[i]=result_it.x\n"
   ]
  },
  {
   "cell_type": "code",
   "execution_count": 9,
   "id": "8ab8d96d",
   "metadata": {},
   "outputs": [
    {
     "data": {
      "text/plain": [
       "9.815975716120342"
      ]
     },
     "execution_count": 9,
     "metadata": {},
     "output_type": "execute_result"
    }
   ],
   "source": [
    "np.mean(Gravedad)"
   ]
  },
  {
   "cell_type": "code",
   "execution_count": 10,
   "id": "4fc8b48c",
   "metadata": {},
   "outputs": [],
   "source": [
    "H2,binsx,binsy = np.histogram2d(Omega,Gravedad,bins=(30,30))"
   ]
  },
  {
   "cell_type": "code",
   "execution_count": null,
   "id": "7c8e3d44",
   "metadata": {},
   "outputs": [],
   "source": []
  },
  {
   "cell_type": "code",
   "execution_count": 11,
   "id": "62f65e28",
   "metadata": {
    "scrolled": true
   },
   "outputs": [
    {
     "data": {
      "image/png": "[encoded data removed]",
      "text/plain": [
       "<Figure size 600x600 with 2 Axes>"
      ]
     },
     "metadata": {},
     "output_type": "display_data"
    }
   ],
   "source": [
    "\n",
    "plt.figure(figsize = (6,6))\n",
    "plt.imshow(H2, origin='lower', extent=[binsx[0], binsx[-1], binsy[0], binsy[-1]], aspect='auto', cmap='viridis')\n",
    "plt.colorbar(label='Frecuencia')\n",
    "plt.xlabel('Rapidez Angular (ω)')\n",
    "plt.ylabel('Gravedad (g)')\n",
    "plt.title('Distribución Conjunta f(ω, g)')\n",
    "plt.show()"
   ]
  },
  {
   "cell_type": "markdown",
   "id": "58805b1a",
   "metadata": {},
   "source": [
    "Las variables si se correlacionan, debido a que se ve que los datos tienen una pendiente, es decir, su covaranza es distinta de cero, lo que implica que son codependientes"
   ]
  },
  {
   "cell_type": "code",
   "execution_count": 12,
   "id": "c49205af",
   "metadata": {},
   "outputs": [],
   "source": [
    "H1 = np.sum(H2,axis=1)"
   ]
  },
  {
   "cell_type": "code",
   "execution_count": 25,
   "id": "07b10bae",
   "metadata": {},
   "outputs": [],
   "source": [
    "cs = np.cumsum(H1)\n",
    "ij = np.searchsorted( cs, np.percentile(cs,16) )\n",
    "ii = np.searchsorted( cs, np.percentile(cs,50) )\n",
    "ji = np.searchsorted( cs, np.percentile(cs,84) )\n"
   ]
  },
  {
   "cell_type": "code",
   "execution_count": null,
   "id": "26351ae1",
   "metadata": {},
   "outputs": [],
   "source": []
  },
  {
   "cell_type": "code",
   "execution_count": 26,
   "id": "37d693fd",
   "metadata": {},
   "outputs": [],
   "source": [
    "def Minimizacion(h, lamda, Gravedad, Y, sigmay):\n",
    "    Omega=np.zeros(len(Gravedad))\n",
    "    \n",
    "    for i in range(len(Gravedad)):\n",
    "        \n",
    "        func_objetivoit = lambda p: chi_cuadrado(h, p, lamda, Gravedad[i], Y, sigmay)\n",
    "        result_it=spo.minimize(func_objetivoit, x0=1., method='Nelder-Mead')\n",
    "        Omega[i]=result_it.x\n",
    "    \n",
    "    H2,binsx,binsy = np.histogram2d(Omega,Gravedad,bins=(30,30))\n",
    "    H1 = np.sum(H2,axis=1)\n",
    "    cs = np.cumsum(H1)\n",
    "    ij = np.searchsorted( cs, np.percentile(cs,16) )\n",
    "    ii = np.searchsorted( cs, np.percentile(cs,50) )\n",
    "    ji = np.searchsorted( cs, np.percentile(cs,84) )\n",
    "    bins =0.5*(binsx[1:]+binsx[:-1])\n",
    "    sigma=np.std(Omega)\n",
    "    \n",
    "    return bins[ii],bins[ij],bins[ji],sigma"
   ]
  },
  {
   "cell_type": "code",
   "execution_count": null,
   "id": "dce410bf",
   "metadata": {},
   "outputs": [],
   "source": []
  },
  {
   "cell_type": "code",
   "execution_count": 27,
   "id": "8da1363b",
   "metadata": {},
   "outputs": [
    {
     "name": "stderr",
     "output_type": "stream",
     "text": [
      "100%|████████████████████████████████████████████████████████████████████████████████████| 6/6 [01:06<00:00, 11.15s/it]\n"
     ]
    },
    {
     "data": {
      "text/plain": [
       "array([[7.12545713e-05, 6.47536914e-05, 7.77554512e-05, 3.64633905e-06],\n",
       "       [7.37452507e-05, 6.70218468e-05, 8.04686546e-05, 3.77315618e-06],\n",
       "       [6.89315796e-05, 6.26373291e-05, 7.52258301e-05, 3.52794955e-06],\n",
       "       [7.83960025e-05, 7.11639722e-05, 8.56280327e-05, 4.00827189e-06],\n",
       "       [6.92669551e-05, 6.29409154e-05, 7.55929947e-05, 3.54435189e-06],\n",
       "       [7.57821401e-05, 6.88521067e-05, 8.27121735e-05, 3.88114198e-06],\n",
       "       [0.00000000e+00, 0.00000000e+00, 0.00000000e+00, 0.00000000e+00]])"
      ]
     },
     "execution_count": 27,
     "metadata": {},
     "output_type": "execute_result"
    }
   ],
   "source": [
    "Lista=np.zeros([len(df['angle'].unique())+1, 4])\n",
    "for i in tqdm(range(len(df['angle'].unique()))):\n",
    "    lamda=df['angle'].unique()[i]\n",
    "    data = df[df['angle']==lamda]\n",
    "    y=data['y']\n",
    "    sigmay=data.iloc[:, 3].values\n",
    "    h=data['h']\n",
    "    \n",
    "    Y=y + np.random.normal( loc=0, scale=sigmay[0], size=len(y) )\n",
    "    Lista[i]=np.array(Minimizacion(h, lamda, Gravedad, Y, sigmay))\n",
    "    #for j in range(3):\n",
    "        \n",
    "        \n",
    "        #Lista[i,j]=np.array(Minimizacion(h, lamda, Gravedad, Y, sigmay))[j]\n",
    "Lista\n"
   ]
  },
  {
   "cell_type": "code",
   "execution_count": 28,
   "id": "1eef7793",
   "metadata": {},
   "outputs": [],
   "source": [
    "#todos los datos\n",
    "Y=y + np.random.normal( loc=0, scale=sigmay[0], size=len(y) )\n",
    "Lista[-1]=Minimizacion(df['h'],df['angle'], Gravedad, Y, df['sigmay'])"
   ]
  },
  {
   "cell_type": "code",
   "execution_count": 29,
   "id": "07c63ab3",
   "metadata": {},
   "outputs": [
    {
     "data": {
      "text/plain": [
       "array([[7.12545713e-05, 6.47536914e-05, 7.77554512e-05, 3.64633905e-06],\n",
       "       [7.37452507e-05, 6.70218468e-05, 8.04686546e-05, 3.77315618e-06],\n",
       "       [6.89315796e-05, 6.26373291e-05, 7.52258301e-05, 3.52794955e-06],\n",
       "       [7.83960025e-05, 7.11639722e-05, 8.56280327e-05, 4.00827189e-06],\n",
       "       [6.92669551e-05, 6.29409154e-05, 7.55929947e-05, 3.54435189e-06],\n",
       "       [7.57821401e-05, 6.88521067e-05, 8.27121735e-05, 3.88114198e-06],\n",
       "       [7.44899114e-05, 6.76552455e-05, 8.13245773e-05, 3.81706679e-06]])"
      ]
     },
     "execution_count": 29,
     "metadata": {},
     "output_type": "execute_result"
    }
   ],
   "source": [
    "Lista"
   ]
  },
  {
   "cell_type": "code",
   "execution_count": 30,
   "id": "a3040029",
   "metadata": {},
   "outputs": [
    {
     "data": {
      "text/plain": [
       "array([3.64633905e-06, 3.77315618e-06, 3.52794955e-06, 4.00827189e-06,\n",
       "       3.54435189e-06, 3.88114198e-06, 3.81706679e-06])"
      ]
     },
     "execution_count": 30,
     "metadata": {},
     "output_type": "execute_result"
    }
   ],
   "source": [
    "Lista[:,3]"
   ]
  },
  {
   "cell_type": "code",
   "execution_count": 31,
   "id": "07a23383",
   "metadata": {},
   "outputs": [
    {
     "data": {
      "text/plain": [
       "array([0.05117341, 0.05116473, 0.05118045, 0.05112852, 0.05116945,\n",
       "       0.05121447, 0.05124274])"
      ]
     },
     "execution_count": 31,
     "metadata": {},
     "output_type": "execute_result"
    }
   ],
   "source": [
    "Lista3=np.array([])\n",
    "for i in range(len(Lista[:,3])):\n",
    "    Lista3=np.append(Lista3,Lista[:,3][i]/(Lista[:,0][i]))\n",
    "Lista3"
   ]
  },
  {
   "cell_type": "code",
   "execution_count": 32,
   "id": "58098c0b",
   "metadata": {},
   "outputs": [],
   "source": [
    "Lista[:,3]=Lista3\n"
   ]
  },
  {
   "cell_type": "code",
   "execution_count": 33,
   "id": "ddb220b6",
   "metadata": {},
   "outputs": [
    {
     "data": {
      "text/plain": [
       "array([[7.12545713e-05, 6.47536914e-05, 7.77554512e-05, 5.11734052e-02],\n",
       "       [7.37452507e-05, 6.70218468e-05, 8.04686546e-05, 5.11647346e-02],\n",
       "       [6.89315796e-05, 6.26373291e-05, 7.52258301e-05, 5.11804542e-02],\n",
       "       [7.83960025e-05, 7.11639722e-05, 8.56280327e-05, 5.11285239e-02],\n",
       "       [6.92669551e-05, 6.29409154e-05, 7.55929947e-05, 5.11694485e-02],\n",
       "       [7.57821401e-05, 6.88521067e-05, 8.27121735e-05, 5.12144679e-02],\n",
       "       [7.44899114e-05, 6.76552455e-05, 8.13245773e-05, 5.12427351e-02]])"
      ]
     },
     "execution_count": 33,
     "metadata": {},
     "output_type": "execute_result"
    }
   ],
   "source": [
    "Lista"
   ]
  },
  {
   "cell_type": "code",
   "execution_count": 34,
   "id": "1ac55dd6",
   "metadata": {},
   "outputs": [
    {
     "data": {
      "text/plain": [
       "array(['10.0', '20.0', '30.0', '40.0', '50.0', '60.0', 'Combined'],\n",
       "      dtype='<U32')"
      ]
     },
     "execution_count": 34,
     "metadata": {},
     "output_type": "execute_result"
    }
   ],
   "source": [
    "eje_x=df['angle'].unique()\n",
    "eje_x=np.append(eje_x,'Combined')\n",
    "eje_x"
   ]
  },
  {
   "cell_type": "code",
   "execution_count": 58,
   "id": "8eb707c8",
   "metadata": {},
   "outputs": [
    {
     "data": {
      "text/plain": [
       "<ErrorbarContainer object of 3 artists>"
      ]
     },
     "execution_count": 58,
     "metadata": {},
     "output_type": "execute_result"
    },
    {
     "data": {
      "image/png": "[encoded data removed]",
      "text/plain": [
       "<Figure size 640x480 with 1 Axes>"
      ]
     },
     "metadata": {},
     "output_type": "display_data"
    }
   ],
   "source": [
    "plt.scatter(eje_x,Lista[:,0])\n",
    "plt.axhline(7.27e-5, linestyle = 'dashed', color = 'r', label=\"Día Solar\")\n",
    "plt.errorbar(eje_x,Lista[:,0],yerr=Lista[:,1], linestyle=\"None\")"
   ]
  },
  {
   "cell_type": "code",
   "execution_count": null,
   "id": "453b6587",
   "metadata": {},
   "outputs": [],
   "source": []
  },
  {
   "cell_type": "code",
   "execution_count": null,
   "id": "14f4e977",
   "metadata": {},
   "outputs": [],
   "source": []
  },
  {
   "cell_type": "code",
   "execution_count": null,
   "id": "57425541",
   "metadata": {},
   "outputs": [],
   "source": []
  }
 ],
 "metadata": {
  "colab": {
   "provenance": []
  },
  "kernelspec": {
   "display_name": "Python 3 (ipykernel)",
   "language": "python",
   "name": "python3"
  },
  "language_info": {
   "codemirror_mode": {
    "name": "ipython",
    "version": 3
   },
   "file_extension": ".py",
   "mimetype": "text/x-python",
   "name": "python",
   "nbconvert_exporter": "python",
   "pygments_lexer": "ipython3",
   "version": "3.10.9"
  }
 },
 "nbformat": 4,
 "nbformat_minor": 5
}
