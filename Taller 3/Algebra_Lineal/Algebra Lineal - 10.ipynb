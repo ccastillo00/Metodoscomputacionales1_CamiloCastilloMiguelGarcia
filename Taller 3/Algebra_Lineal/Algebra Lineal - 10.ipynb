{
 "cells": [
  {
   "cell_type": "code",
   "execution_count": 5,
   "id": "c270546b",
   "metadata": {},
   "outputs": [],
   "source": [
    "import numpy as np\n",
    "\n",
    "H = np.array([[1, 2, -1],\n",
    "              [1, 0, 1],\n",
    "              [4, -4, 5]])\n",
    "\n",
    "v = np.array([1, 0, 0])\n",
    "\n",
    "max_iter = 1000\n",
    "tolerance = 1e-6\n",
    "\n",
    "for i in range(max_iter):\n",
    "    v_new = np.linalg.solve(H, v)\n",
    "    v_new = v_new / np.linalg.norm(v_new)\n",
    "    if np.abs(np.dot(v_new, v)) < tolerance:\n",
    "        break\n",
    "    v = v_new\n",
    "\n",
    "eigenvalue = 1 / np.dot(v_new, np.linalg.solve(H, v_new))\n",
    "\n",
    "\n",
    "\n"
   ]
  },
  {
   "cell_type": "code",
   "execution_count": 6,
   "id": "cab9341a",
   "metadata": {},
   "outputs": [
    {
     "name": "stdout",
     "output_type": "stream",
     "text": [
      "El valor propio correspondiente al estado base es: 1.0\n",
      "El vector propio correspondiente al estado base es: [-0.40824829  0.40824829  0.81649658]\n"
     ]
    }
   ],
   "source": [
    "print(\"El valor propio correspondiente al estado base es:\", eigenvalue)\n",
    "print(\"El vector propio correspondiente al estado base es:\", v_new)"
   ]
  },
  {
   "cell_type": "code",
   "execution_count": null,
   "id": "af9c9a9c",
   "metadata": {},
   "outputs": [],
   "source": []
  }
 ],
 "metadata": {
  "kernelspec": {
   "display_name": "Python 3 (ipykernel)",
   "language": "python",
   "name": "python3"
  },
  "language_info": {
   "codemirror_mode": {
    "name": "ipython",
    "version": 3
   },
   "file_extension": ".py",
   "mimetype": "text/x-python",
   "name": "python",
   "nbconvert_exporter": "python",
   "pygments_lexer": "ipython3",
   "version": "3.9.13"
  }
 },
 "nbformat": 4,
 "nbformat_minor": 5
}
