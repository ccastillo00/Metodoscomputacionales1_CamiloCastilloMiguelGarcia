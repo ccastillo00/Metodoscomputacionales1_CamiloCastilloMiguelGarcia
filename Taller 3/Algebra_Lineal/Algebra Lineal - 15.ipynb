{
 "cells": [
  {
   "cell_type": "code",
   "execution_count": 7,
   "id": "783278ac",
   "metadata": {},
   "outputs": [],
   "source": [
    "import numpy as np\n",
    "\n",
    "gamma0 = np.array([[1, 0, 0, 0], [0, 1, 0, 0], [0, 0, -1, 0], [0, 0, 0, -1]])\n",
    "gamma1 = np.array([[0, 0, 0, 1], [0, 0, 1, 0], [0, -1, 0, 0], [-1, 0, 0, 0]])\n",
    "gamma2 = np.array([[0, 0, 0, -1j], [0, 0, 1j, 0], [0, 1j, 0, 0], [-1j, 0, 0, 0]])\n",
    "gamma3 = np.array([[0, 0, 1, 0], [0, 0, 0, -1], [-1, 0, 0, 0], [0, 1, 0, 0]])\n",
    "\n",
    "eta = np.diag([1, -1, -1, -1])"
   ]
  },
  {
   "cell_type": "code",
   "execution_count": 8,
   "id": "450f5ab9",
   "metadata": {},
   "outputs": [],
   "source": [
    "anticonmutador = gamma0 @ gamma1 + gamma1 @ gamma0 + gamma0 @ gamma2 + gamma2 @ gamma0 + gamma0 @ gamma3 + gamma3 @ gamma0 + gamma1 @ gamma2 + gamma2 @ gamma1 + gamma1 @ gamma3 + gamma3 @ gamma1 + gamma2 @ gamma3 + gamma3 @ gamma2\n",
    "identidad = np.eye(4)\n",
    "resultado = 2 * eta @ identidad\n",
    "\n",
    "\n"
   ]
  },
  {
   "cell_type": "code",
   "execution_count": 9,
   "id": "eeca090e",
   "metadata": {},
   "outputs": [
    {
     "name": "stdout",
     "output_type": "stream",
     "text": [
      "La relación de anticonmutación no se cumple.\n"
     ]
    }
   ],
   "source": [
    "if np.allclose(anticonmutador, resultado):\n",
    "    print(\"La relación de anticonmutación se cumple.\")\n",
    "else:\n",
    "    print(\"La relación de anticonmutación no se cumple.\")"
   ]
  },
  {
   "cell_type": "code",
   "execution_count": null,
   "id": "b6fd96b0",
   "metadata": {},
   "outputs": [],
   "source": []
  }
 ],
 "metadata": {
  "kernelspec": {
   "display_name": "Python 3 (ipykernel)",
   "language": "python",
   "name": "python3"
  },
  "language_info": {
   "codemirror_mode": {
    "name": "ipython",
    "version": 3
   },
   "file_extension": ".py",
   "mimetype": "text/x-python",
   "name": "python",
   "nbconvert_exporter": "python",
   "pygments_lexer": "ipython3",
   "version": "3.9.13"
  }
 },
 "nbformat": 4,
 "nbformat_minor": 5
}
