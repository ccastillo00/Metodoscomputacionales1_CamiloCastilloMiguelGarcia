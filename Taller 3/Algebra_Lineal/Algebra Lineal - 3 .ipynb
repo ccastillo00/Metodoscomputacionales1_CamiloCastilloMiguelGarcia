{
 "cells": [
  {
   "cell_type": "code",
   "execution_count": 1,
   "id": "6fe8e2fa",
   "metadata": {},
   "outputs": [],
   "source": [
    "def matrix_multiply(A, B):\n",
    "    m, n = len(A), len(A[0])\n",
    "    nB, p = len(B), len(B[0])\n",
    "    assert n == nB, \"Las matrices no se pueden multiplicar.\"\n",
    "    C = [[0] * p for _ in range(m)]\n",
    "    for i in range(m):\n",
    "        for j in range(p):\n",
    "            for k in range(n):\n",
    "                C[i][j] += A[i][k] * B[k][j]\n",
    "    return C"
   ]
  },
  {
   "cell_type": "code",
   "execution_count": 2,
   "id": "7512df81",
   "metadata": {},
   "outputs": [
    {
     "name": "stdout",
     "output_type": "stream",
     "text": [
      "AB = [[4, -2, 1], [20, -7, 12], [-8, 13, 21]]\n"
     ]
    }
   ],
   "source": [
    "A = [[1, 0, 0],\n",
    "     [5, 1, 0],\n",
    "     [-2, 3, 1]]\n",
    "\n",
    "B = [[4, -2, 1],\n",
    "     [0, 3, 7],\n",
    "     [0, 0, 2]]\n",
    "\n",
    "AB = matrix_multiply(A, B)\n",
    "print(\"AB =\", AB)\n"
   ]
  },
  {
   "cell_type": "code",
   "execution_count": null,
   "id": "a157eba5",
   "metadata": {},
   "outputs": [],
   "source": []
  }
 ],
 "metadata": {
  "kernelspec": {
   "display_name": "Python 3 (ipykernel)",
   "language": "python",
   "name": "python3"
  },
  "language_info": {
   "codemirror_mode": {
    "name": "ipython",
    "version": 3
   },
   "file_extension": ".py",
   "mimetype": "text/x-python",
   "name": "python",
   "nbconvert_exporter": "python",
   "pygments_lexer": "ipython3",
   "version": "3.9.13"
  }
 },
 "nbformat": 4,
 "nbformat_minor": 5
}
