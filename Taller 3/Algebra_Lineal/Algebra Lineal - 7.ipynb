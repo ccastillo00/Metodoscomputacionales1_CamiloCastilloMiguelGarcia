{
 "cells": [
  {
   "cell_type": "code",
   "execution_count": 3,
   "id": "8a771b53",
   "metadata": {},
   "outputs": [],
   "source": [
    "def lu_decomposition(A):\n",
    "    n = len(A)\n",
    "    L = [[0.0] * n for i in range(n)]\n",
    "    U = [[0.0] * n for i in range(n)]\n",
    "    \n",
    "    for j in range(n):\n",
    "        L[j][j] = 1.0\n",
    "        for i in range(j+1):\n",
    "            s1 = sum(U[k][j] * L[i][k] for k in range(i))\n",
    "            U[i][j] = A[i][j] - s1\n",
    "        for i in range(j, n):\n",
    "            s2 = sum(U[k][j] * L[i][k] for k in range(j))\n",
    "            L[i][j] = (A[i][j] - s2) / U[j][j]\n",
    "    \n",
    "    return L, U\n"
   ]
  },
  {
   "cell_type": "code",
   "execution_count": 4,
   "id": "463ac64d",
   "metadata": {},
   "outputs": [
    {
     "name": "stdout",
     "output_type": "stream",
     "text": [
      "Matriz L:\n",
      "[1.0, 0.0, 0.0]\n",
      "[5.0, 1.0, 0.0]\n",
      "[-2.0, 3.0, 1.0]\n",
      "\n",
      "Matriz U:\n",
      "[4, -2, 1]\n",
      "[0.0, 3.0, 7.0]\n",
      "[0.0, 0.0, -2.0]\n"
     ]
    }
   ],
   "source": [
    "A = [[4, -2, 1],\n",
    "     [20, -7, 12],\n",
    "     [-8, 13, 17]]\n",
    "\n",
    "L, U = lu_decomposition(A)\n",
    "\n",
    "print(\"Matriz L:\")\n",
    "for row in L:\n",
    "    print(row)\n",
    "\n",
    "print(\"\\nMatriz U:\")\n",
    "for row in U:\n",
    "    print(row)"
   ]
  },
  {
   "cell_type": "code",
   "execution_count": null,
   "id": "b39486a4",
   "metadata": {},
   "outputs": [],
   "source": []
  }
 ],
 "metadata": {
  "kernelspec": {
   "display_name": "Python 3 (ipykernel)",
   "language": "python",
   "name": "python3"
  },
  "language_info": {
   "codemirror_mode": {
    "name": "ipython",
    "version": 3
   },
   "file_extension": ".py",
   "mimetype": "text/x-python",
   "name": "python",
   "nbconvert_exporter": "python",
   "pygments_lexer": "ipython3",
   "version": "3.9.13"
  }
 },
 "nbformat": 4,
 "nbformat_minor": 5
}
