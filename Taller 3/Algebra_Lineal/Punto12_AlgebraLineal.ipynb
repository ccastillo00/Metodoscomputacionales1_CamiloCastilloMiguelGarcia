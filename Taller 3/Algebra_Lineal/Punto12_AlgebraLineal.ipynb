{
 "cells": [
  {
   "cell_type": "code",
   "execution_count": 4,
   "id": "cae34591",
   "metadata": {},
   "outputs": [],
   "source": [
    "import numpy as np\n",
    "import sympy as sym\n",
    "from scipy.misc import derivative"
   ]
  },
  {
   "cell_type": "markdown",
   "id": "2cb9df68",
   "metadata": {},
   "source": [
    "# Punto 12"
   ]
  },
  {
   "cell_type": "code",
   "execution_count": 238,
   "id": "96548284",
   "metadata": {},
   "outputs": [],
   "source": [
    "def f1(x):\n",
    "    return 6*x[0] - 2*np.cos(x[1]*x[2]) - 1\n",
    "\n",
    "def f2(x):\n",
    "    return 9*x[1] + np.sqrt(x[0]**2 + np.sin(x[2]) + 1.06) + 0.9\n",
    "\n",
    "def f3(x):\n",
    "    return 60*x[2] + 3*(np.e**(-x[0]*x[1])) + 10*np.pi - 3\n"
   ]
  },
  {
   "cell_type": "code",
   "execution_count": 264,
   "id": "08e38061",
   "metadata": {},
   "outputs": [],
   "source": [
    "def dco4(f,x, h, dr):\n",
    "    \n",
    "    result=-f(x+2*h*dr)+8*f(x+h*dr)-8*f(x-h*dr)+f(x-2*h*dr)\n",
    "    \n",
    "    return result/((12*h))\n"
   ]
  },
  {
   "cell_type": "code",
   "execution_count": 259,
   "id": "9c3184c3",
   "metadata": {},
   "outputs": [],
   "source": [
    "def dco2(f,x,h,dr):\n",
    "    result =f(x+h*dr)-f(x-h*dr)\n",
    "    return result/(2*h)"
   ]
  },
  {
   "cell_type": "code",
   "execution_count": 253,
   "id": "1cdeb6df",
   "metadata": {},
   "outputs": [],
   "source": [
    "def Jacobian(functions,df,pts,h):\n",
    "    \n",
    "    #functions=np.array([f1,f2,f3])\n",
    "    J = np.zeros((len(functions),len(functions)))\n",
    "    \n",
    "    for i in range(len(functions)):\n",
    "        for j in range(len(functions)):\n",
    "           \n",
    "            dr=np.zeros(len(functions))\n",
    "            dr[j]+=1\n",
    "            #print(dr)\n",
    "            J[i,j]=df(functions[i],pts,h,dr)\n",
    "        \n",
    "    return J"
   ]
  },
  {
   "cell_type": "code",
   "execution_count": 254,
   "id": "35f2bd3e",
   "metadata": {},
   "outputs": [],
   "source": [
    "G=[f1,f2,f3]"
   ]
  },
  {
   "cell_type": "code",
   "execution_count": 255,
   "id": "842cb765",
   "metadata": {},
   "outputs": [],
   "source": [
    "pts=np.array([0.5,0.5,0.5])"
   ]
  },
  {
   "cell_type": "code",
   "execution_count": 256,
   "id": "9350459f",
   "metadata": {},
   "outputs": [],
   "source": [
    "h=0.01\n"
   ]
  },
  {
   "cell_type": "code",
   "execution_count": 265,
   "id": "5e3598c0",
   "metadata": {},
   "outputs": [
    {
     "data": {
      "text/plain": [
       "array([[ 6.        ,  0.24740396,  0.24740396],\n",
       "       [ 0.37377753,  9.        ,  0.32802064],\n",
       "       [-1.16820117, -1.16820117, 60.        ]])"
      ]
     },
     "execution_count": 265,
     "metadata": {},
     "output_type": "execute_result"
    }
   ],
   "source": [
    "Jacobian(G,dco4,pts,h)\n"
   ]
  },
  {
   "cell_type": "code",
   "execution_count": 261,
   "id": "8010ac95",
   "metadata": {},
   "outputs": [
    {
     "data": {
      "text/plain": [
       "array([[ 6.        ,  0.24740396,  0.24740396],\n",
       "       [ 0.37377753,  9.        ,  0.32802064],\n",
       "       [-1.16820118, -1.16820118, 60.        ]])"
      ]
     },
     "execution_count": 261,
     "metadata": {},
     "output_type": "execute_result"
    }
   ],
   "source": [
    "Jacobian(G,dco2,pts,h**2)"
   ]
  },
  {
   "cell_type": "code",
   "execution_count": null,
   "id": "0ade1280",
   "metadata": {},
   "outputs": [],
   "source": []
  }
 ],
 "metadata": {
  "kernelspec": {
   "display_name": "Python 3 (ipykernel)",
   "language": "python",
   "name": "python3"
  },
  "language_info": {
   "codemirror_mode": {
    "name": "ipython",
    "version": 3
   },
   "file_extension": ".py",
   "mimetype": "text/x-python",
   "name": "python",
   "nbconvert_exporter": "python",
   "pygments_lexer": "ipython3",
   "version": "3.10.9"
  }
 },
 "nbformat": 4,
 "nbformat_minor": 5
}
