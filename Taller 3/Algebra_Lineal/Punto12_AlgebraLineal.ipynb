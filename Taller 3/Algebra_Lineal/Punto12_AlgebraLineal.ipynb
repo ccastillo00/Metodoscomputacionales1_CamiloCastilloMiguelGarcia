{
 "cells": [
  {
   "cell_type": "code",
   "execution_count": 2,
   "id": "cae34591",
   "metadata": {},
   "outputs": [],
   "source": [
    "import numpy as np"
   ]
  },
  {
   "cell_type": "markdown",
   "id": "2cb9df68",
   "metadata": {},
   "source": [
    "# Punto 12"
   ]
  },
  {
   "cell_type": "code",
   "execution_count": 3,
   "id": "96548284",
   "metadata": {},
   "outputs": [],
   "source": [
    "G = (lambda x,y,z: 6*x - 2*np.cos(y*z) - 1., \\\n",
    "    lambda x,y,z: 9*y + (x**2+np.sin(z)+1.06)*0.5 +0.9, \\\n",
    "    lambda x,y,z: 60*z + 3*np.exp(-x*y) + 10*np.pi - 3.)"
   ]
  },
  {
   "cell_type": "code",
   "execution_count": 34,
   "id": "9217ca80",
   "metadata": {},
   "outputs": [],
   "source": [
    "def GetJacobian(G,r,h):\n",
    "    \n",
    "    dim = len(G)\n",
    "    \n",
    "    J = np.zeros((dim,dim))\n",
    "    \n",
    "    for i in range(dim):\n",
    "        J[i,0] = (G[i]( r[0] + 4*h,r[1],r[2]) - 4*G[i]( r[0] + 2*h,r[1],r[2]) + 6*G[i](r[0],r[1],r[2]) \n",
    "                  - 4*G[i]( r[0] - 2*h,r[1],r[2]) + G[i]( r[0] - 2*h,r[1],r[2]))/((2*h)**4)\n",
    "        \n",
    "        J[i,1] = (G[i]( r[0] ,r[1] + 4*h,r[2]) - 4*G[i]( r[0],r[1] + 2*h,r[2]) + 6*G[i](r[0],r[1],r[2]) \n",
    "                  - 4*G[i]( r[0],r[1] - 2*h,r[2]) + G[i]( r[0] ,r[1] - 4*h,r[2]))/((2*h)**4)\n",
    "        \n",
    "        J[i,2] = (G[i]( r[0] ,r[1],r[2] + 4*h) - 4*G[i]( r[0],r[1],r[2] + 2*h) + 6*G[i](r[0],r[1],r[2]) \n",
    "                  - 4*G[i]( r[0],r[1],r[2] - 2*h) + G[i]( r[0] ,r[1],r[2] - 4*h))/((2*h)**4)\n",
    "        \n",
    "        \n",
    "    return J.T"
   ]
  },
  {
   "cell_type": "code",
   "execution_count": 69,
   "id": "ec3f1567",
   "metadata": {},
   "outputs": [],
   "source": [
    "h=1e-4"
   ]
  },
  {
   "cell_type": "code",
   "execution_count": 70,
   "id": "db41cfa2",
   "metadata": {},
   "outputs": [
    {
     "data": {
      "text/plain": [
       "array([[ 7.50000000e+11,  6.24625000e+10, -1.46047052e+11],\n",
       "       [ 5.55111512e-01, -1.11022302e+00, -3.10862447e+01],\n",
       "       [ 5.55111512e-01,  0.00000000e+00, -4.44089210e+00]])"
      ]
     },
     "execution_count": 70,
     "metadata": {},
     "output_type": "execute_result"
    }
   ],
   "source": [
    "\n",
    "GetJacobian(G,[0.5,0.5,0.5],h)"
   ]
  },
  {
   "cell_type": "code",
   "execution_count": null,
   "id": "1f0f4522",
   "metadata": {},
   "outputs": [],
   "source": []
  },
  {
   "cell_type": "code",
   "execution_count": 37,
   "id": "f035456e",
   "metadata": {},
   "outputs": [],
   "source": [
    "def GetJacobian2(G,r,h):\n",
    "    \n",
    "    dim = len(G)\n",
    "    \n",
    "    J = np.zeros((dim,dim))\n",
    "    \n",
    "    for i in range(dim):\n",
    "        J[i,0] = (G[i]( r[0] + 2*h,r[1],r[2]) + 2*G[i]( r[0],r[1],r[2])\n",
    "                  - G[i]( r[0] - 2*h,r[1],r[2]))/((2*h)**2)\n",
    "        \n",
    "        J[i,1] = (G[i]( r[0] ,r[1] + 2*h,r[2]) + 2*G[i]( r[0],r[1],r[2])\n",
    "                  - G[i]( r[0] ,r[1] - 2*h,r[2]))/((2*h)**2)\n",
    "        \n",
    "        J[i,2] = (G[i]( r[0] ,r[1],r[2] + 2*h) + 2*G[i]( r[0] ,r[1],r[2])\n",
    "                  - G[i]( r[0] ,r[1],r[2] - 2*h))/((2*h)**2)\n",
    "        \n",
    "    return J.T"
   ]
  },
  {
   "cell_type": "code",
   "execution_count": 71,
   "id": "62045944",
   "metadata": {},
   "outputs": [
    {
     "data": {
      "text/plain": [
       "array([[   910.87578289,  31523.56384651, 303644.82236109],\n",
       "       [   335.61576648,  32373.56384651, 303644.82236109],\n",
       "       [   335.61576648,  31517.44004939, 309761.64442556]])"
      ]
     },
     "execution_count": 71,
     "metadata": {},
     "output_type": "execute_result"
    }
   ],
   "source": [
    "GetJacobian2(G,[0.5,0.5,0.5],1e-2)"
   ]
  },
  {
   "cell_type": "code",
   "execution_count": null,
   "id": "4dc1dbdc",
   "metadata": {},
   "outputs": [],
   "source": []
  },
  {
   "cell_type": "code",
   "execution_count": null,
   "id": "73913dec",
   "metadata": {},
   "outputs": [],
   "source": []
  }
 ],
 "metadata": {
  "kernelspec": {
   "display_name": "Python 3 (ipykernel)",
   "language": "python",
   "name": "python3"
  },
  "language_info": {
   "codemirror_mode": {
    "name": "ipython",
    "version": 3
   },
   "file_extension": ".py",
   "mimetype": "text/x-python",
   "name": "python",
   "nbconvert_exporter": "python",
   "pygments_lexer": "ipython3",
   "version": "3.10.9"
  }
 },
 "nbformat": 4,
 "nbformat_minor": 5
}
