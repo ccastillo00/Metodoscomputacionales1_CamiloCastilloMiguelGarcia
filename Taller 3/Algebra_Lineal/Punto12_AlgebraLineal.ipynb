{
 "cells": [
  {
   "cell_type": "code",
   "execution_count": 1,
   "id": "cae34591",
   "metadata": {},
   "outputs": [],
   "source": [
    "import numpy as np"
   ]
  },
  {
   "cell_type": "markdown",
   "id": "2cb9df68",
   "metadata": {},
   "source": [
    "# Punto 12"
   ]
  },
  {
   "cell_type": "code",
   "execution_count": 266,
   "id": "96548284",
   "metadata": {},
   "outputs": [],
   "source": [
    "G = (lambda x,y,z: 6*x - 2*np.cos(y*z) - 1., \\\n",
    "    lambda x,y,z: 9*y + (x**2+np.sin(z)+1.06)*0.5 +0.9, \\\n",
    "    lambda x,y,z: 60*z + 3*np.exp(-x*y) + 10*np.pi - 3.)"
   ]
  },
  {
   "cell_type": "code",
   "execution_count": 267,
   "id": "9217ca80",
   "metadata": {},
   "outputs": [],
   "source": [
    "def GetJacobian(G,r,h):\n",
    "    \n",
    "    dim = len(G)\n",
    "    \n",
    "    J = np.zeros((dim,dim))\n",
    "    \n",
    "    for i in range(dim):\n",
    "        J[i,0] = (G[i]( r[0] + 2*h,r[1],r[2]) - 4*G[i]( r[0] + h,r[1],r[2])+6*G[i](r[0],r[1],r[2])-4*G[i]( r[0]-h,r[1],r[2])+\n",
    "                  G[i]( r[0] - 2*h,r[1],r[2]))/(2*h)**4\n",
    "        \n",
    "        J[i,1] = (G[i]( r[0] ,r[1]+2*h,r[2]) - 4*G[i]( r[0],r[1]+h,r[2])+6*G[i](r[0],r[1],r[2])-4*G[i]( r[0],r[1]-h,r[2])+\n",
    "                  G[i]( r[0] ,r[1]-2*h,r[2]))/(2*h)**4\n",
    "        \n",
    "        J[i,2] = (G[i]( r[0] ,r[1],r[2]+2*h) - 4*G[i]( r[0],r[1],r[2]+h)+6*G[i](r[0],r[1],r[2])-4*G[i]( r[0],r[1],r[2]-h)+\n",
    "                  G[i]( r[0] ,r[1],r[2]-2*h))/(2*h)**4\n",
    "        \n",
    "        \n",
    "    return J.T"
   ]
  },
  {
   "cell_type": "code",
   "execution_count": 268,
   "id": "ec3f1567",
   "metadata": {},
   "outputs": [],
   "source": [
    "h=1e-2"
   ]
  },
  {
   "cell_type": "code",
   "execution_count": 278,
   "id": "db41cfa2",
   "metadata": {},
   "outputs": [
    {
     "data": {
      "text/plain": [
       "array([[ 0.00000000e+00, -1.11022302e-08,  9.12634412e-03],\n",
       "       [-7.56959218e-03,  0.00000000e+00,  9.12634412e-03],\n",
       "       [-7.56959218e-03,  1.49817825e-02, -8.88178420e-08]])"
      ]
     },
     "execution_count": 278,
     "metadata": {},
     "output_type": "execute_result"
    }
   ],
   "source": [
    "\n",
    "GetJacobian(G,[0.5,0.5,0.5],h)"
   ]
  },
  {
   "cell_type": "code",
   "execution_count": null,
   "id": "1f0f4522",
   "metadata": {},
   "outputs": [],
   "source": []
  },
  {
   "cell_type": "code",
   "execution_count": 270,
   "id": "f035456e",
   "metadata": {},
   "outputs": [],
   "source": [
    "def GetJacobian2(G,r,h):\n",
    "    \n",
    "    dim = len(G)\n",
    "    \n",
    "    J = np.zeros((dim,dim))\n",
    "    \n",
    "    for i in range(dim):\n",
    "        J[i,0] = (G[i]( r[0] + 2*h,r[1],r[2]) + 2*G[i]( r[0],r[1],r[2])\n",
    "                  - G[i]( r[0] - 2*h,r[1],r[2]))/((2*h)**2)\n",
    "        J[i,1] = (G[i]( r[0] ,r[1] + 2*h,r[2]) + 2*G[i]( r[0],r[1],r[2])\n",
    "                  - G[i]( r[0] ,r[1]- 2*h,r[2]))/((2*h)**2)\n",
    "        J[i,2] = (G[i]( r[0] ,r[1],r[2] + 2*h) + 2*G[i]( r[0] ,r[1],r[2])\n",
    "                  - G[i]( r[0] ,r[1],r[2]-2*h))/((2*h)**2)\n",
    "        \n",
    "    return J"
   ]
  },
  {
   "cell_type": "code",
   "execution_count": 279,
   "id": "62045944",
   "metadata": {},
   "outputs": [
    {
     "data": {
      "text/plain": [
       "array([[3.16875783e+06, 3.11123187e+06, 3.11123187e+06],\n",
       "       [3.14740638e+08, 3.14825638e+08, 3.14740026e+08],\n",
       "       [3.03760476e+09, 3.03760476e+09, 3.03821644e+09]])"
      ]
     },
     "execution_count": 279,
     "metadata": {},
     "output_type": "execute_result"
    }
   ],
   "source": [
    "GetJacobian2(G,[0.5,0.5,0.5],1e-4)"
   ]
  },
  {
   "cell_type": "code",
   "execution_count": 147,
   "id": "4dc1dbdc",
   "metadata": {},
   "outputs": [],
   "source": [
    "i="
   ]
  }
 ],
 "metadata": {
  "kernelspec": {
   "display_name": "Python 3 (ipykernel)",
   "language": "python",
   "name": "python3"
  },
  "language_info": {
   "codemirror_mode": {
    "name": "ipython",
    "version": 3
   },
   "file_extension": ".py",
   "mimetype": "text/x-python",
   "name": "python",
   "nbconvert_exporter": "python",
   "pygments_lexer": "ipython3",
   "version": "3.10.9"
  }
 },
 "nbformat": 4,
 "nbformat_minor": 5
}
