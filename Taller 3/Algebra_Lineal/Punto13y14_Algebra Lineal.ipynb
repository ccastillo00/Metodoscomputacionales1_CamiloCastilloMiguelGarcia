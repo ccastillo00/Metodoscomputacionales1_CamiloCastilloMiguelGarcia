{
 "cells": [
  {
   "cell_type": "code",
   "execution_count": 3,
   "id": "48838acd",
   "metadata": {},
   "outputs": [],
   "source": [
    "import sympy as sym\n",
    "import numpy as np"
   ]
  },
  {
   "cell_type": "code",
   "execution_count": null,
   "id": "9c6272c6",
   "metadata": {},
   "outputs": [],
   "source": []
  },
  {
   "cell_type": "markdown",
   "id": "cbc34433",
   "metadata": {},
   "source": [
    "# Punto 13"
   ]
  },
  {
   "cell_type": "code",
   "execution_count": 4,
   "id": "aad14748",
   "metadata": {},
   "outputs": [
    {
     "data": {
      "text/plain": [
       "array([[[ 0.,  0.,  0.],\n",
       "        [ 0.,  0.,  1.],\n",
       "        [ 0., -1.,  0.]],\n",
       "\n",
       "       [[ 0.,  0., -1.],\n",
       "        [ 0.,  0.,  0.],\n",
       "        [ 1.,  0.,  0.]],\n",
       "\n",
       "       [[ 0.,  1.,  0.],\n",
       "        [-1.,  0.,  0.],\n",
       "        [ 0.,  0.,  0.]]])"
      ]
     },
     "execution_count": 4,
     "metadata": {},
     "output_type": "execute_result"
    }
   ],
   "source": [
    "Jx=np.ones([3,3])\n",
    "Jy=np.ones([3,3])\n",
    "Jz=np.ones([3,3])\n",
    "\n",
    "LC=np.array([Jx,Jy,Jz])\n",
    "MJ=np.zeros([3,3,3])\n",
    "\n",
    "for i in range(len(Jx)):\n",
    "    for j in range(len(Jy)):\n",
    "        for k in range(len(Jz)):\n",
    "\n",
    "            if (i>j and ((i+j)%2==1)) or (j>k and k>i):\n",
    "                LC[i,j,k]=-1\n",
    "                #print(k,j,i)\n",
    "            \n",
    "            if i==j or j==k or i ==k:\n",
    "                LC[i,j,k]=0\n",
    "    MJ[i]=LC[i].T\n",
    "LC"
   ]
  },
  {
   "cell_type": "code",
   "execution_count": 25,
   "id": "c85d05a9",
   "metadata": {},
   "outputs": [],
   "source": [
    "\n",
    "\n",
    "for i in range(len(Jx)):\n",
    "    for j in range(len(Jy)):\n",
    "        for k in range(len(Jz)):\n",
    "            ecu_L=MJ[i]@MJ[j]-MJ[j]@MJ[i]\n",
    "            #print(MJ[0]@MJ[0])\n",
    "            ecu_R=LC[i,j,k]*MJ[k]\n",
    "            \n",
    "            #print(ecu_R)\n",
    "            #print(ecu_L==ecu_R)\n",
    "            "
   ]
  },
  {
   "cell_type": "markdown",
   "id": "715a9a06",
   "metadata": {},
   "source": [
    "# Punto 14"
   ]
  },
  {
   "cell_type": "code",
   "execution_count": 6,
   "id": "ff248ba4",
   "metadata": {},
   "outputs": [],
   "source": [
    "sx=np.array([[0,1],[1,0]])\n",
    "sy=np.array([[0,-1j],[1j,0]])\n",
    "sz=np.array([[1,0],[0,1]])\n",
    "\n",
    "Ms=np.array([sx,sy,sz])"
   ]
  },
  {
   "cell_type": "code",
   "execution_count": 15,
   "id": "e7d959bd",
   "metadata": {},
   "outputs": [
    {
     "data": {
      "text/plain": [
       "0.0"
      ]
     },
     "execution_count": 15,
     "metadata": {},
     "output_type": "execute_result"
    }
   ],
   "source": [
    "LC[0,0,0]"
   ]
  },
  {
   "cell_type": "code",
   "execution_count": 7,
   "id": "e479dd12",
   "metadata": {},
   "outputs": [
    {
     "data": {
      "text/plain": [
       "array([[[ 0., -1.],\n",
       "        [ 1.,  0.]],\n",
       "\n",
       "       [[ 0., -1.],\n",
       "        [ 1.,  0.]],\n",
       "\n",
       "       [[ 0., -1.],\n",
       "        [ 1.,  0.]]])"
      ]
     },
     "execution_count": 7,
     "metadata": {},
     "output_type": "execute_result"
    }
   ],
   "source": [
    "LCi=np.zeros([3,2,2])\n",
    "for i in range(LCi.shape[0]):\n",
    "    for j in range(LCi.shape[1]):\n",
    "        for k in range(LCi.shape[2]):\n",
    "            if j>k:\n",
    "                LCi[i,j,k]=1\n",
    "            elif k>j:\n",
    "                LCi[i,j,k]=-1\n",
    "                \n",
    "LCi"
   ]
  },
  {
   "cell_type": "code",
   "execution_count": 29,
   "id": "8d7ff2a5",
   "metadata": {},
   "outputs": [
    {
     "name": "stdout",
     "output_type": "stream",
     "text": [
      "[[ True  True]\n",
      " [ True  True]]\n",
      "[[ True False]\n",
      " [False  True]]\n",
      "[[False False]\n",
      " [False False]]\n",
      "[[False  True]\n",
      " [ True False]]\n",
      "[[False  True]\n",
      " [ True False]]\n",
      "[[False False]\n",
      " [False False]]\n",
      "[[ True False]\n",
      " [False  True]]\n",
      "[[ True  True]\n",
      " [ True  True]]\n",
      "[[ True  True]\n",
      " [ True  True]]\n",
      "[[ True False]\n",
      " [False  True]]\n",
      "[[ True False]\n",
      " [False  True]]\n",
      "[[ True  True]\n",
      " [ True  True]]\n"
     ]
    }
   ],
   "source": [
    "for i in range(len(Ms)):\n",
    "    for j in range(len(sy)):\n",
    "        for k in range(len(sz)):\n",
    "            \n",
    "            ecu_L=Ms[i]@Ms[j]-Ms[j]@Ms[i]\n",
    "          \n",
    "            ecu_R=2j*(LCi[i,j,k]*Ms[k])\n",
    "            print(ecu_R==ecu_L)"
   ]
  },
  {
   "cell_type": "code",
   "execution_count": 17,
   "id": "a9da1fca",
   "metadata": {},
   "outputs": [
    {
     "data": {
      "text/plain": [
       "array([[ True,  True],\n",
       "       [ True,  True]])"
      ]
     },
     "execution_count": 17,
     "metadata": {},
     "output_type": "execute_result"
    }
   ],
   "source": []
  }
 ],
 "metadata": {
  "kernelspec": {
   "display_name": "Python 3 (ipykernel)",
   "language": "python",
   "name": "python3"
  },
  "language_info": {
   "codemirror_mode": {
    "name": "ipython",
    "version": 3
   },
   "file_extension": ".py",
   "mimetype": "text/x-python",
   "name": "python",
   "nbconvert_exporter": "python",
   "pygments_lexer": "ipython3",
   "version": "3.10.9"
  }
 },
 "nbformat": 4,
 "nbformat_minor": 5
}
