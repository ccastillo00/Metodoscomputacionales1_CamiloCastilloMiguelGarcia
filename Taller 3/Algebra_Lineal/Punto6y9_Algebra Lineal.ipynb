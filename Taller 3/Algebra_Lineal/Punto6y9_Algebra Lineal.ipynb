{
 "cells": [
  {
   "cell_type": "code",
   "execution_count": 1,
   "id": "f7da1198",
   "metadata": {},
   "outputs": [],
   "source": [
    "import numpy as np\n",
    "import matplotlib.pyplot as plt\n",
    "import sympy as sym"
   ]
  },
  {
   "cell_type": "markdown",
   "id": "726bf57a",
   "metadata": {},
   "source": [
    "# Punto 6"
   ]
  },
  {
   "cell_type": "code",
   "execution_count": 113,
   "id": "cab55853",
   "metadata": {},
   "outputs": [],
   "source": [
    "def SOR(A,b,x0,w, itmax=1000, tolerancia= 1e-9):\n",
    "    \n",
    "    x = x0.copy()\n",
    "    \n",
    "    for it in range(1,itmax):\n",
    "        \n",
    "        #xn = np.zeros_like(x0)\n",
    "        \n",
    "        for i in range(A.shape[0]):\n",
    "            \n",
    "            sum_ = 0.\n",
    "            \n",
    "            for j in range(A.shape[1]):\n",
    "                \n",
    "                if j!=i:\n",
    "                    sum_ += A[i,j]*x[j]\n",
    "                    \n",
    "            x[i] = (1-w)*x[i]+w*(b[i] - sum_)/A[i,i]\n",
    "            \n",
    "        #print(it,x)\n",
    "        \n",
    "        residuo = np.linalg.norm( np.dot(A,x) - b )\n",
    "        #x = xn.copy()\n",
    "        #print(residuo)\n",
    "        \n",
    "        if np.allclose(residuo,tolerancia,atol=tolerancia):\n",
    "            break\n",
    "        \n",
    "    return x,it"
   ]
  },
  {
   "cell_type": "code",
   "execution_count": 2,
   "id": "12319a8d",
   "metadata": {},
   "outputs": [],
   "source": [
    "A = np.array([[3,-1,-1],[-1.,3.,1.],[2,1,4]])\n",
    "b = np.array([1.,3.,7.])"
   ]
  },
  {
   "cell_type": "code",
   "execution_count": 153,
   "id": "18c167cb",
   "metadata": {},
   "outputs": [
    {
     "name": "stdout",
     "output_type": "stream",
     "text": [
      "El peso que reduce las iteraciones a 15 es 0.9769452873910434\n"
     ]
    }
   ],
   "source": [
    "x0 = np.array([0.,0.,0.])\n",
    "itmax=1000\n",
    "\n",
    "i=1\n",
    "w=2/(1+np.pi/i)\n",
    "it=SOR(A,b,x0,i, itmax)[1]\n",
    "\n",
    "while SOR(A,b,x0,w, itmax)[1]<(itmax-1):\n",
    "  \n",
    "    w=2/(1+np.pi/i)\n",
    "    if it>SOR(A,b,x0,w, itmax)[1]:\n",
    "        min_w=w\n",
    "        it=SOR(A,b,x0,w, itmax)[1]\n",
    "       \n",
    "    i+=1\n",
    "        \n",
    "print('El peso que reduce las iteraciones a ' +str(it)+' es '+str(min_w))\n",
    "\n",
    "\n",
    "    \n",
    "    \n"
   ]
  },
  {
   "cell_type": "markdown",
   "id": "bbf83a2f",
   "metadata": {},
   "source": [
    "# Punto 9"
   ]
  },
  {
   "cell_type": "code",
   "execution_count": 159,
   "id": "47f599af",
   "metadata": {},
   "outputs": [],
   "source": [
    "def mayor_valor(matriz):\n",
    "    valor=-np.inf\n",
    "    for i in range(len(matriz)):\n",
    "        for j in range(len(matriz[i])):\n",
    "            if i!=j and valor<=matriz[i,j]:\n",
    "                \n",
    "                valor=matriz[i,j]\n",
    "                coords=np.array([i,j])\n",
    "    return valor, coords\n",
    "    "
   ]
  },
  {
   "cell_type": "code",
   "execution_count": 160,
   "id": "62e36dd5",
   "metadata": {},
   "outputs": [],
   "source": [
    "def Vectores_Propios(A, itmax=1000):\n",
    "    RV =np.identity(len(A))\n",
    "    for it in range(itmax):\n",
    "        R = np.eye(A.shape[0])\n",
    "        \n",
    "        mv = mayor_valor(A)\n",
    "        v = mv[0]\n",
    "        coords = mv[1]\n",
    "        if A[coords[0], coords[0]] == A[coords[1], coords[1]]:\n",
    "            theta = np.pi / 4\n",
    "        else:\n",
    "            t = 2 * v / (A[coords[1], coords[1]] - A[coords[0], coords[0]])\n",
    "            theta = 0.5 * np.arctan(t)\n",
    "        \n",
    "        R[coords[1], coords[0]] = -np.sin(theta)      \n",
    "        R[coords[0], coords[1]] = np.sin(theta)\n",
    "        R[coords[0], coords[0]] = np.cos(theta)\n",
    "        R[coords[1], coords[1]] = np.cos(theta)\n",
    "        \n",
    "        R_inv = np.linalg.inv(R)\n",
    "        RV = np.dot(R.T, RV)\n",
    "        A = R_inv @ A @ R\n",
    "        \n",
    "    VP = np.diag(A)\n",
    "    V = np.linalg.inv(RV)\n",
    "    return VP, V\n",
    "                \n",
    "                \n",
    "                "
   ]
  },
  {
   "cell_type": "code",
   "execution_count": 161,
   "id": "1b998cc9",
   "metadata": {},
   "outputs": [],
   "source": [
    "a=np.array([[4,1,1],[1,3,2],[1,2,5]])\n"
   ]
  },
  {
   "cell_type": "code",
   "execution_count": 162,
   "id": "63eedd1f",
   "metadata": {},
   "outputs": [],
   "source": [
    "Valores,Vectores=Vectores_Propios(a)\n"
   ]
  },
  {
   "cell_type": "code",
   "execution_count": 163,
   "id": "498c7784",
   "metadata": {},
   "outputs": [
    {
     "data": {
      "text/plain": [
       "array([3.39729482, 1.70759867, 6.89510652])"
      ]
     },
     "execution_count": 163,
     "metadata": {},
     "output_type": "execute_result"
    }
   ],
   "source": [
    "Valores"
   ]
  },
  {
   "cell_type": "code",
   "execution_count": 164,
   "id": "a4e333f1",
   "metadata": {},
   "outputs": [
    {
     "data": {
      "text/plain": [
       "array([[ 0.8856695 , -0.17094212,  0.43170398],\n",
       "       [-0.07555865,  0.86430837,  0.49725438],\n",
       "       [-0.45812708, -0.47302201,  0.75257541]])"
      ]
     },
     "execution_count": 164,
     "metadata": {},
     "output_type": "execute_result"
    }
   ],
   "source": [
    "Vectores"
   ]
  },
  {
   "cell_type": "code",
   "execution_count": 165,
   "id": "1cf8d2c9",
   "metadata": {},
   "outputs": [
    {
     "data": {
      "text/plain": [
       "(array([6.89510652, 3.39729507, 1.70759841]),\n",
       " array([[ 0.43170413,  0.88573564,  0.17059871],\n",
       "        [ 0.49725362, -0.07589338, -0.86427949],\n",
       "        [ 0.75257583, -0.45794385,  0.47319874]]))"
      ]
     },
     "execution_count": 165,
     "metadata": {},
     "output_type": "execute_result"
    }
   ],
   "source": [
    "np.linalg.eig(a)"
   ]
  },
  {
   "cell_type": "code",
   "execution_count": 173,
   "id": "711ae323",
   "metadata": {},
   "outputs": [
    {
     "name": "stdout",
     "output_type": "stream",
     "text": [
      "Los vectores propios que corresponden al valor propio 3.3972948158577623 son [ 0.8856695  -0.07555865 -0.45812708]\n",
      "Los vectores propios que corresponden al valor propio 1.7075986682188165 son [-0.17094212  0.86430837 -0.47302201]\n",
      "Los vectores propios que corresponden al valor propio 6.895106515923421 son [0.43170398 0.49725438 0.75257541]\n"
     ]
    }
   ],
   "source": [
    "for i in range(len(Vectores)):\n",
    "    print('Los vectores propios que corresponden al valor propio '+str(Valores[i])+' son ' + str(Vectores[:,i]))"
   ]
  },
  {
   "cell_type": "code",
   "execution_count": null,
   "id": "45cb45b5",
   "metadata": {},
   "outputs": [],
   "source": []
  }
 ],
 "metadata": {
  "kernelspec": {
   "display_name": "Python 3 (ipykernel)",
   "language": "python",
   "name": "python3"
  },
  "language_info": {
   "codemirror_mode": {
    "name": "ipython",
    "version": 3
   },
   "file_extension": ".py",
   "mimetype": "text/x-python",
   "name": "python",
   "nbconvert_exporter": "python",
   "pygments_lexer": "ipython3",
   "version": "3.10.9"
  }
 },
 "nbformat": 4,
 "nbformat_minor": 5
}
