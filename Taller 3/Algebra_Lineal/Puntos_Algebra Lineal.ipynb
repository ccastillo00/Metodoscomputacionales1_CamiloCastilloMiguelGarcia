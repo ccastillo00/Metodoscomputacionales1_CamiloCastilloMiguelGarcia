{
 "cells": [
  {
   "cell_type": "code",
   "execution_count": 2,
   "id": "f7da1198",
   "metadata": {},
   "outputs": [],
   "source": [
    "import numpy as np\n",
    "import matplotlib.pyplot as plt\n",
    "import sympy as sym"
   ]
  },
  {
   "cell_type": "markdown",
   "id": "726bf57a",
   "metadata": {},
   "source": [
    "# Punto 6"
   ]
  },
  {
   "cell_type": "code",
   "execution_count": 91,
   "id": "12319a8d",
   "metadata": {},
   "outputs": [],
   "source": [
    "A = np.array([[3,-1,-1],[-1.,3.,1.],[2,1,4]])\n",
    "b = np.array([1.,3.,7.])"
   ]
  },
  {
   "cell_type": "code",
   "execution_count": 329,
   "id": "7a8e4602",
   "metadata": {},
   "outputs": [
    {
     "data": {
      "text/plain": [
       "1.0"
      ]
     },
     "execution_count": 329,
     "metadata": {},
     "output_type": "execute_result"
    }
   ],
   "source": [
    "A[1,2]"
   ]
  },
  {
   "cell_type": "code",
   "execution_count": 268,
   "id": "f96abfd6",
   "metadata": {},
   "outputs": [
    {
     "name": "stdout",
     "output_type": "stream",
     "text": [
      "1\n"
     ]
    }
   ],
   "source": [
    "for r in range(4,1):\n",
    "    print(r)\n",
    "    \n",
    "print(r)\n"
   ]
  },
  {
   "cell_type": "code",
   "execution_count": 443,
   "id": "cab55853",
   "metadata": {},
   "outputs": [],
   "source": [
    "def GausSeidel(A,b,x0,w, itmax=1000, tolerancia= 1e-9):\n",
    "    \n",
    "    x = x0.copy()\n",
    "    \n",
    "    for it in range(1,itmax):\n",
    "        \n",
    "        #xn = np.zeros_like(x0)\n",
    "        \n",
    "        for i in range(A.shape[0]):\n",
    "            \n",
    "            sum_ = 0.\n",
    "            \n",
    "            for j in range(A.shape[1]):\n",
    "                \n",
    "                if j!=i:\n",
    "                    sum_ += A[i,j]*x[j]\n",
    "                    \n",
    "            x[i] = (1-w)*x[i-1]+w*(b[i] - sum_)/A[i,i]\n",
    "            \n",
    "        #print(it,x)\n",
    "        \n",
    "        residuo = np.linalg.norm( np.dot(A,x) - b )\n",
    "        #x = xn.copy()\n",
    "        #print(residuo)\n",
    "        \n",
    "        if np.allclose(residuo,tolerancia,atol=tolerancia):\n",
    "            break\n",
    "        \n",
    "    return x,it"
   ]
  },
  {
   "cell_type": "code",
   "execution_count": 444,
   "id": "18c167cb",
   "metadata": {},
   "outputs": [
    {
     "name": "stdout",
     "output_type": "stream",
     "text": [
      "0.48290601401044775\n",
      "(array([1., 1., 1.]), 11)\n",
      "0.7779690592966855\n",
      "(array([1., 1., 1.]), 14)\n",
      "0.9769452873910434\n",
      "(array([1., 1., 1.]), 16)\n",
      "1.1201983070231147\n",
      "(array([1., 1., 1.]), 17)\n",
      "1.2282609098099249\n",
      "(array([1., 1., 1.]), 21)\n",
      "1.312681548470413\n",
      "(array([1., 1., 1.]), 28)\n",
      "1.3804537884929204\n",
      "(array([1., 1., 1.]), 35)\n",
      "1.4360603997530677\n",
      "(array([1., 1., 1.]), 43)\n",
      "1.4825073212020587\n",
      "(array([1., 1., 1.]), 53)\n",
      "1.5218855527786235\n",
      "(array([1., 1., 1.]), 64)\n",
      "1.5556946476191547\n",
      "(array([1., 1., 1.]), 78)\n",
      "1.585038017404995\n",
      "(array([1., 1., 1.]), 94)\n",
      "1.6107456406550908\n",
      "(array([1., 1., 1.]), 114)\n",
      "1.6334538199480688\n",
      "(array([1., 1., 1.]), 139)\n",
      "1.6536585609016916\n",
      "(array([1., 1., 1.]), 172)\n",
      "1.6717522193221865\n",
      "(array([1., 1., 1.]), 217)\n",
      "1.6880492314961129\n",
      "(array([1., 1., 1.]), 282)\n",
      "1.7028045422059195\n",
      "(array([1., 1., 1.]), 382)\n",
      "1.7162270390625716\n",
      "(array([1., 1., 1.]), 560)\n"
     ]
    }
   ],
   "source": [
    "x0 = np.array([0.,0.,0.])\n",
    "it=20\n",
    "for N in range(1,it):\n",
    "    w=2/(1+np.pi/N)\n",
    "    print(w)\n",
    "    print(GausSeidel(A,b,x0,w))"
   ]
  },
  {
   "cell_type": "code",
   "execution_count": null,
   "id": "77b27836",
   "metadata": {},
   "outputs": [],
   "source": []
  },
  {
   "cell_type": "markdown",
   "id": "bbf83a2f",
   "metadata": {},
   "source": [
    "# Punto 9"
   ]
  },
  {
   "cell_type": "code",
   "execution_count": 222,
   "id": "68de5119",
   "metadata": {},
   "outputs": [],
   "source": [
    "a=np.array([[4.,1.,1.],[1.,3.,2.],[1.,2.,5.]])\n"
   ]
  },
  {
   "cell_type": "code",
   "execution_count": 223,
   "id": "47f599af",
   "metadata": {},
   "outputs": [],
   "source": [
    "def mayor_valor(matriz):\n",
    "    valor=0\n",
    "    for i in range(len(matriz)):\n",
    "        for j in range(len(matriz[i])):\n",
    "            if i!=j and valor<=abs(matriz[i,j]):\n",
    "                \n",
    "                valor=matriz[i,j]\n",
    "                coords=np.array([i,j])\n",
    "    return valor, coords\n",
    "    "
   ]
  },
  {
   "cell_type": "code",
   "execution_count": 406,
   "id": "62e36dd5",
   "metadata": {},
   "outputs": [],
   "source": [
    "def Valores_Propios (A,itmax=10000):\n",
    "    RV=np.identity(len(A))\n",
    "    for it in range(itmax):\n",
    "        \n",
    "        R=np.zeros([A.shape[0],A.shape[1]])\n",
    "        for i in range(A.shape[0]):\n",
    "            for j in range(A.shape[1]):\n",
    "                \n",
    "                mv=mayor_valor(A)\n",
    "                v=mv[0]\n",
    "                coords=mv[1]\n",
    "                \n",
    "                if A[coords[0],coords[0]]==A[coords[1],coords[1]]:\n",
    "                    theta=np.pi/4\n",
    "                else:\n",
    "                    theta=0.5*np.arctan(2*v/(A[coords[0],coords[0]]-A[coords[1],coords[1]]))\n",
    "                    \n",
    "                    \n",
    "                if coords[0]==i and coords[1]==j:\n",
    "                    R[i,j]=-np.sin(theta)\n",
    "                elif coords[1]==i and coords[0]==j:\n",
    "                    R[i,j]=np.sin(theta)\n",
    "                elif i==j:\n",
    "                    R[i,j]=1\n",
    "                elif coords[0]==i==j or coords[1]==j==i:\n",
    "                    R[i,j]=np.cos(theta)\n",
    "        \n",
    "        R_inv=np.linalg.inv(R)\n",
    "        RV=RV@R\n",
    "        #print(RV)\n",
    "        A=R_inv@A@R\n",
    "        \n",
    "        \n",
    "            \n",
    "    return A,RV\n",
    "                \n",
    "                \n",
    "                "
   ]
  },
  {
   "cell_type": "code",
   "execution_count": 407,
   "id": "63eedd1f",
   "metadata": {},
   "outputs": [
    {
     "data": {
      "text/plain": [
       "array([3.39712968, 1.70755584, 6.89531447])"
      ]
     },
     "execution_count": 407,
     "metadata": {},
     "output_type": "execute_result"
    }
   ],
   "source": [
    "vp=Valores_Propios(a)[0]\n",
    "VP=np.array([])\n",
    "for i in range(len(vp)):\n",
    "    VP=np.append(VP,vp[i,i])\n",
    "VP\n",
    "\n"
   ]
  },
  {
   "cell_type": "code",
   "execution_count": 408,
   "id": "a4e333f1",
   "metadata": {},
   "outputs": [
    {
     "name": "stdout",
     "output_type": "stream",
     "text": [
      "[[ 0.96182029 -0.19249341  0.52463695]\n",
      " [-0.13648529  0.99087473  0.60703158]\n",
      " [-0.61531146 -0.54444386  0.91567933]]\n"
     ]
    }
   ],
   "source": [
    "lista=Valores_Propios(a)[1]\n"
   ]
  },
  {
   "cell_type": "code",
   "execution_count": null,
   "id": "808e323a",
   "metadata": {},
   "outputs": [],
   "source": []
  },
  {
   "cell_type": "code",
   "execution_count": 409,
   "id": "1cf8d2c9",
   "metadata": {},
   "outputs": [
    {
     "data": {
      "text/plain": [
       "(array([6.89510652, 3.39729507, 1.70759841]),\n",
       " array([[ 0.43170413,  0.88573564,  0.17059871],\n",
       "        [ 0.49725362, -0.07589338, -0.86427949],\n",
       "        [ 0.75257583, -0.45794385,  0.47319874]]))"
      ]
     },
     "execution_count": 409,
     "metadata": {},
     "output_type": "execute_result"
    }
   ],
   "source": [
    "np.linalg.eig(a)"
   ]
  },
  {
   "cell_type": "code",
   "execution_count": null,
   "id": "256256f1",
   "metadata": {},
   "outputs": [],
   "source": []
  },
  {
   "cell_type": "code",
   "execution_count": 405,
   "id": "3bfb3cfb",
   "metadata": {},
   "outputs": [
    {
     "data": {
      "text/plain": [
       "0.0"
      ]
     },
     "execution_count": 405,
     "metadata": {},
     "output_type": "execute_result"
    }
   ],
   "source": []
  }
 ],
 "metadata": {
  "kernelspec": {
   "display_name": "Python 3 (ipykernel)",
   "language": "python",
   "name": "python3"
  },
  "language_info": {
   "codemirror_mode": {
    "name": "ipython",
    "version": 3
   },
   "file_extension": ".py",
   "mimetype": "text/x-python",
   "name": "python",
   "nbconvert_exporter": "python",
   "pygments_lexer": "ipython3",
   "version": "3.10.9"
  }
 },
 "nbformat": 4,
 "nbformat_minor": 5
}
