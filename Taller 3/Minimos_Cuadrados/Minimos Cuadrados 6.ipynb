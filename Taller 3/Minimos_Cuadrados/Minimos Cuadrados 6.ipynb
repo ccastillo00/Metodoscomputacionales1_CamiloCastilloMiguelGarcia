{
 "cells": [
  {
   "cell_type": "code",
   "execution_count": 1,
   "id": "68738853",
   "metadata": {},
   "outputs": [],
   "source": [
    "import numpy as np\n",
    "import matplotlib.pyplot as plt\n",
    "import urllib.request\n",
    "import os.path as path\n",
    "import os\n",
    "import wget"
   ]
  },
  {
   "cell_type": "markdown",
   "id": "574a9aaa",
   "metadata": {},
   "source": [
    "# Punto 6"
   ]
  },
  {
   "cell_type": "markdown",
   "id": "2fac5a6e",
   "metadata": {},
   "source": [
    "# LINEAL"
   ]
  },
  {
   "cell_type": "markdown",
   "id": "5f038c4f",
   "metadata": {},
   "source": [
    "Para encontrar los valores de los parámetros $a_0$ y $a_1$ que minimizan la función de costo $\\chi^2(a_0, a_1)$, se pueden utilizar las derivadas parciales de la función respecto a $a_0$ y $a_1$, e igualarlas a cero. Las derivadas parciales son:\n",
    "\n",
    "\\begin{align}\n",
    "\\frac{\\partial \\chi^2}{\\partial a_0} &= -2\\sum_{i=1}^n (y_i - a_0 - a_1 x_i) \\\n",
    "\\frac{\\partial \\chi^2}{\\partial a_1} &= -2\\sum_{i=1}^n x_i(y_i - a_0 - a_1 x_i)\n",
    "\\end{align}\n",
    "\n",
    "Igualando estas expresiones a cero, se obtienen las siguientes ecuaciones:\n",
    "\n",
    "\\begin{align}\n",
    "0 &= -2\\sum_{i=1}^n (y_i - a_0 - a_1 x_i) \\\n",
    "0 &= -2\\sum_{i=1}^n x_i(y_i - a_0 - a_1 x_i)\n",
    "\\end{align}\n",
    "\n",
    "Resolviendo para $a_0$ y $a_1$, se obtiene:\n",
    "\n",
    "\\begin{align}\n",
    "a_0 &= \\bar{y} - a_1 \\bar{x} \\\n",
    "a_1 &= \\frac{\\sum_{i=1}^n x_i y_i - \\frac{1}{n} \\left(\\sum_{i=1}^n x_i \\right) \\left(\\sum_{i=1}^n y_i \\right)}{\\sum_{i=1}^n x_i^2 - \\frac{1}{n} \\left(\\sum_{i=1}^n x_i \\right)^2}\n",
    "\\end{align}\n",
    "\n",
    "donde $\\bar{x}$ y $\\bar{y}$ son los valores medios de las variables $x$ e $y$, respectivamente."
   ]
  },
  {
   "cell_type": "code",
   "execution_count": 2,
   "id": "05e95c80",
   "metadata": {},
   "outputs": [],
   "source": [
    "if not path.exists('Data'):\n",
    "    os.mkdir('Data')\n",
    "    \n",
    "file = 'Data/ModeloLineal.dat' \n",
    "\n",
    "url = \"https://raw.githubusercontent.com/asegura4488/Database/main/MetodosComputacionalesReforma/MinimosLineal.txt\"\n",
    "\n",
    "\n",
    "if not path.exists(file):\n",
    "    Path1_ = wget.download(url,file)\n",
    "else:\n",
    "    Path1_ = file"
   ]
  },
  {
   "cell_type": "code",
   "execution_count": 3,
   "id": "370e78a5",
   "metadata": {},
   "outputs": [],
   "source": [
    "data=np.loadtxt(Path1_)"
   ]
  },
  {
   "cell_type": "code",
   "execution_count": 4,
   "id": "e2afddb7",
   "metadata": {},
   "outputs": [],
   "source": [
    "def fc(x, a):\n",
    "    \n",
    "    y=a[0]+a[1]*x\n",
    "    return y"
   ]
  },
  {
   "cell_type": "code",
   "execution_count": 5,
   "id": "ab46b473",
   "metadata": {},
   "outputs": [],
   "source": [
    "def LinealModel(x,y):\n",
    "    cx=len(x)\n",
    "    \n",
    "    xs=np.sum(x)\n",
    "    ys=np.sum(y)\n",
    "    xm=np.mean(x)\n",
    "    ym=np.mean(y)\n",
    "    xy=np.sum(x*y)\n",
    "    \n",
    "    x2=np.sum(x**2)\n",
    "    xs2=(np.sum(x)**2)/cx\n",
    "    \n",
    "    a1=(xy-(xs*ys)/cx)/(x2-xs2)\n",
    "    a0=ym-a1*xm\n",
    "    \n",
    "    return a0, a1"
   ]
  },
  {
   "cell_type": "code",
   "execution_count": 6,
   "id": "3dad2159",
   "metadata": {},
   "outputs": [
    {
     "name": "stdout",
     "output_type": "stream",
     "text": [
      "El valor que toma a0 es -5.129185528853004\n",
      "El valor que toma a1 es 2.125036808008276\n"
     ]
    }
   ],
   "source": [
    "x,y=data[:,0], data[:,1]\n",
    "As=LinealModel(x,y)\n",
    "\n",
    "xn=np.linspace(np.min(x), np.max(x), 100)\n",
    "yn=fc(xn, As)\n",
    "print('El valor que toma a0 es '+ str(As[0]))\n",
    "print('El valor que toma a1 es '+ str(As[1]))"
   ]
  },
  {
   "cell_type": "code",
   "execution_count": 7,
   "id": "56054be1",
   "metadata": {},
   "outputs": [
    {
     "data": {
      "text/plain": [
       "[<matplotlib.lines.Line2D at 0x287d24ad300>]"
      ]
     },
     "execution_count": 7,
     "metadata": {},
     "output_type": "execute_result"
    },
    {
     "data": {
      "image/png": "[encoded data removed]",
      "text/plain": [
       "<Figure size 640x480 with 1 Axes>"
      ]
     },
     "metadata": {},
     "output_type": "display_data"
    }
   ],
   "source": [
    "plt.scatter(x,y)\n",
    "plt.plot(xn, yn, color='r')"
   ]
  },
  {
   "cell_type": "markdown",
   "id": "7276de03",
   "metadata": {},
   "source": [
    "# CUADRÁTICO"
   ]
  },
  {
   "cell_type": "markdown",
   "id": "d61e13e5",
   "metadata": {},
   "source": [
    "Los coeficientes de la primera ecuación $$(1, x, x^2)$$ existen en la segunda y tercera ecuaciones en la misma secuencia, pero multiplicados por x1. Si examinamos cuidadosamente las ecuaciones, podemos notar esto. Similar a la segunda ecuación, los coeficientes de la tercera ecuación $$(x, x^2, x^3)$$ ocurren en la misma secuencia pero se multiplican por x. Esto implica un patrón en el que los coeficientes de cada ecuación se mueven una potencia de x a la derecha de los coeficientes de la ecuación anterior.\n",
    "\n",
    "Se ajustaron tres puntos de datos con una función cuadrática para producir este patrón. Los coeficientes de las ecuaciones normalmente crean un patrón cuando un polinomio de grado n se ajusta a n+1 puntos de datos."
   ]
  },
  {
   "cell_type": "markdown",
   "id": "fa3a0a35",
   "metadata": {},
   "source": [
    "\\begin{equation}\n",
    "\\chi^2(a_0, a_1, a_2) = \\sum_{i=1}^{n} (y_i - (a_0 + a_1 x_i + a_2 x_i^2))^2\n",
    "\\end{equation}\n",
    "\n",
    "Expandiendo el término al cuadrado, tenemos:\n",
    "\n",
    "\\begin{equation}\n",
    "\\chi^2(a_0, a_1, a_2) = \\sum_{i=1}^{n} (y_i^2 - 2y_i(a_0 + a_1 x_i + a_2 x_i^2) + (a_0 + a_1 x_i + a_2 x_i^2)^2)\n",
    "\\end{equation}\n",
    "\n",
    "Desarrollando los términos al cuadrado, se obtiene:\n",
    "\n",
    "\\begin{align}\n",
    "\\chi^2(a_0, a_1, a_2) &= \\sum_{i=1}^{n} (y_i^2 - 2a_0 y_i - 2a_1 x_i y_i - 2a_2 x_i^2 y_i \\nonumber \\\n",
    "&+ a_0^2 + 2a_0 a_1 x_i + 2a_0 a_2 x_i^2 + a_1^2 x_i^2 + 2a_1 a_2 x_i^3 + a_2^2 x_i^4)\n",
    "\\end{align}\n",
    "\n",
    "A continuación, tomamos las derivadas parciales de χ² con respecto a cada coeficiente y las igualamos a cero para minimizar la función de costo. Obtenemos:\n",
    "\n",
    "\\begin{equation}\n",
    "\\frac{\\partial \\chi^2}{\\partial a_0} = -2 \\sum_{i=1}^{n} (y_i - a_0 - a_1 x_i - a_2 x_i^2) = 0\n",
    "\\end{equation}\n",
    "\n",
    "\\begin{equation}\n",
    "\\frac{\\partial \\chi^2}{\\partial a_1} = -2 \\sum_{i=1}^{n} (x_i y_i - a_0 x_i - a_1 x_i^2 - a_2 x_i^3) = 0\n",
    "\\end{equation}\n",
    "\n",
    "\\begin{equation}\n",
    "\\frac{\\partial \\chi^2}{\\partial a_2} = -2 \\sum_{i=1}^{n} (x_i^2 y_i - a_0 x_i^2 - a_1 x_i^3 - a_2 x_i^4) = 0\n",
    "\\end{equation}\n",
    "\n",
    "Resolviendo este sistema de ecuaciones, obtenemos los valores de $a_0$, $a_1$ y $a_2$ que minimizan χ²."
   ]
  },
  {
   "cell_type": "markdown",
   "id": "4b583e6e",
   "metadata": {},
   "source": [
    "\\begin{align*}\n",
    "\\mathbf{A} &=\n",
    "\\begin{pmatrix}\n",
    "n & \\sum_{i=1}^{n} x_i & \\sum_{i=1}^{n} x_i^2 \\\n",
    "\\sum_{i=1}^{n} x_i & \\sum_{i=1}^{n} x_i^2 & \\sum_{i=1}^{n} x_i^3 \\\n",
    "\\sum_{i=1}^{n} x_i^2 & \\sum_{i=1}^{n} x_i^3 & \\sum_{i=1}^{n} x_i^4\n",
    "\\end{pmatrix} \\\n",
    "\\mathbf{b} &=\n",
    "\\begin{pmatrix}\n",
    "\\sum_{i=1}^{n} y_i \\\n",
    "\\sum_{i=1}^{n} x_i y_i \\\n",
    "\\sum_{i=1}^{n} x_i^2 y_i\n",
    "\\end{pmatrix}\n",
    "\\end{align*}\n",
    "\n",
    "La solución analítica es:\n",
    "\n",
    "\\begin{align*}\n",
    "a_0 &= \\frac{\\begin{vmatrix}\n",
    "\\sum_{i=1}^{n} y_i & \\sum_{i=1}^{n} x_i & \\sum_{i=1}^{n} x_i^2 \\\n",
    "\\sum_{i=1}^{n} x_i y_i & \\sum_{i=1}^{n} x_i^2 & \\sum_{i=1}^{n} x_i^3 \\\n",
    "\\sum_{i=1}^{n} x_i^2 y_i & \\sum_{i=1}^{n} x_i^3 & \\sum_{i=1}^{n} x_i^4\n",
    "\\end{vmatrix}}{\\begin{vmatrix}\n",
    "n & \\sum_{i=1}^{n} x_i & \\sum_{i=1}^{n} x_i^2 \\\n",
    "\\sum_{i=1}^{n} x_i & \\sum_{i=1}^{n} x_i^2 & \\sum_{i=1}^{n} x_i^3 \\\n",
    "\\sum_{i=1}^{n} x_i^2 & \\sum_{i=1}^{n} x_i^3 & \\sum_{i=1}^{n} x_i^4\n",
    "\\end{vmatrix}} \\\n",
    "\\end{align*}"
   ]
  },
  {
   "cell_type": "markdown",
   "id": "40e2d71b",
   "metadata": {},
   "source": [
    "\n",
    "\n",
    "\\begin{aligned}\n",
    "\\sum_{i=1}^n a_0 x_i^2 + \\sum_{i=1}^n a_1 x_i^3 + \\sum_{i=1}^n a_2 x_i^4 &= \\sum_{i=1}^n x_i^2 y_i \\\n",
    "a_0 \\sum_{i=1}^n x_i^2 + a_1 \\sum_{i=1}^n x_i^3 + a_2 \\sum_{i=1}^n x_i^4 &= \\sum_{i=1}^n x_i^2 y_i \\\n",
    "\\end{aligned}\n",
    "\n",
    "Usando las expresiones para las sumatorias que se obtuvieron previamente, podemos escribir:\n",
    "\n",
    "\\begin{aligned}\n",
    "a_0 n + a_1 \\sum_{i=1}^n x_i + a_2 \\sum_{i=1}^n x_i^2 &= \\sum_{i=1}^n y_i \\\n",
    "a_0 \\sum_{i=1}^n x_i + a_1 \\sum_{i=1}^n x_i^2 + a_2 \\sum_{i=1}^n x_i^3 &= \\sum_{i=1}^n x_i y_i \\\n",
    "a_0 \\sum_{i=1}^n x_i^2 + a_1 \\sum_{i=1}^n x_i^3 + a_2 \\sum_{i=1}^n x_i^4 &= \\sum_{i=1}^n x_i^2 y_i \\\n",
    "\\end{aligned}\n",
    "\n",
    "Este es un sistema de 3 ecuaciones lineales con 3 incógnitas (a_0, a_1 y a_2), que puede ser resuelto de varias maneras (por ejemplo, usando eliminación gaussiana o la regla de Cramer). Una solución analítica para este sistema es:\n",
    "\n",
    "\\begin{aligned}\n",
    "a_0 &= \\frac{\\sum_{i=1}^n y_i x_i^2 \\sum_{i=1}^n x_i - \\sum_{i=1}^n x_i y_i \\sum_{i=1}^n x_i^2}{\\Delta} \\\n",
    "a_1 &= \\frac{\\sum_{i=1}^n y_i \\sum_{i=1}^n x_i^3 \\sum_{i=1}^n x_i^2 - \\sum_{i=1}^n x_i y_i \\sum_{i=1}^n x_i^4 - \\sum_{i=1}^n x_i^2 y_i \\sum_{i=1}^n x_i^3}{\\Delta} \\\n",
    "a_2 &= \\frac{\\sum_{i=1}^n y_i \\sum_{i=1}^n x_i^2 \\sum_{i=1}^n x_i^4 - \\sum_{i=1}^n x_i y_i \\sum_{i=1}^n x_i^5 - \\sum_{i=1}^n x_i^2 y_i \\sum_{i=1}^n x_i^4}{\\Delta} \\\n",
    "\\end{aligned}"
   ]
  },
  {
   "cell_type": "markdown",
   "id": "0d0db2f9",
   "metadata": {},
   "source": [
    "$\\Delta = n \\sum_{i=1}^n x_i^4 \\sum_{i=1}^n x_i^2 - \\left(\\sum_{i=1}^n x_i^3\\right)^2$\n",
    "\n",
    "De esta manera, los valores óptimos para $a_0$, $a_1$ y $a_2$ que minimizan $\\chi^2$ se calculan utilizando las siguientes expresiones:\n",
    "\n",
    "\\begin{aligned}\n",
    "a_0 &= \\frac{\\sum_{i=1}^n y_i \\sum_{i=1}^n x_i^2 \\sum_{i=1}^n x_i - \\sum_{i=1}^n x_i \\sum_{i=1}^n x_i^2 \\sum_{i=1}^n x_i y_i}{\\Delta} \\\n",
    "a_1 &= \\frac{n \\sum_{i=1}^n x_i \\sum_{i=1}^n x_i^2 y_i - \\sum_{i=1}^n x_i \\sum_{i=1}^n x_i^3 \\sum_{i=1}^n x_i y_i + \\sum_{i=1}^n x_i^2 \\sum_{i=1}^n x_i^3 \\sum_{i=1}^n x_i y_i}{\\Delta} \\\n",
    "a_2 &= \\frac{n \\sum_{i=1}^n x_i^2 \\sum_{i=1}^n x_i^4 y_i - \\sum_{i=1}^n x_i \\sum_{i=1}^n x_i^4 \\sum_{i=1}^n x_i y_i + \\sum_{i=1}^n x_i^2 \\sum_{i=1}^n x_i^3 \\sum_{i=1}^n x_i^2 y_i}{\\Delta}\n",
    "\\end{aligned}\n",
    "\n",
    "Donde $\\Delta$ se define como:\n",
    "\\begin{aligned}\n",
    "\\Delta = n \\sum_{i=1}^n x_i^4 \\sum_{i=1}^n x_i^2 - \\left(\\sum_{i=1}^n x_i^3\\right)^2\n",
    "\\end{aligned}\n",
    "Estas expresiones nos proporcionan los valores de $a_0$, $a_1$ y $a_2$ que minimizan la función $\\chi^2$."
   ]
  },
  {
   "cell_type": "code",
   "execution_count": 8,
   "id": "d5e06dcd",
   "metadata": {},
   "outputs": [],
   "source": [
    "if not path.exists('Data'):\n",
    "    os.mkdir('Data')\n",
    "    \n",
    "file = 'Data/ModeloCuadratico.dat' \n",
    "\n",
    "url = \"https://raw.githubusercontent.com/asegura4488/Database/main/MetodosComputacionalesReforma/MinimosCuadratico.txt\"\n",
    "\n",
    "\n",
    "if not path.exists(file):\n",
    "    Path2_ = wget.download(url,file)\n",
    "else:\n",
    "    Path2_ = file"
   ]
  },
  {
   "cell_type": "code",
   "execution_count": 9,
   "id": "627188ae",
   "metadata": {},
   "outputs": [],
   "source": [
    "data2=np.loadtxt(Path2_)\n"
   ]
  },
  {
   "cell_type": "code",
   "execution_count": 10,
   "id": "9989f4c1",
   "metadata": {},
   "outputs": [],
   "source": [
    "def fcc(x,a):\n",
    "    \n",
    "    y=a[0]+a[1]*x+a[2]*x**2\n",
    "    \n",
    "    return y\n"
   ]
  },
  {
   "cell_type": "code",
   "execution_count": 11,
   "id": "02fb40eb",
   "metadata": {},
   "outputs": [],
   "source": [
    "def MatrixC(x,y):\n",
    "    \n",
    "    ys=np.sum(y)\n",
    "    xy2s=np.sum((x**2)*y)\n",
    "    xy=np.sum(x*y)\n",
    "    \n",
    "    matrix=np.zeros([3,3])\n",
    "    for i in range(len(matrix)):\n",
    "        \n",
    "        matrix[i,0]= np.sum(x**i)\n",
    "        matrix[i,1]=np.sum(x**(i+1))\n",
    "        matrix[i,2]=np.sum(x**(i+2))\n",
    "    \n",
    "    b=np.array([ys,xy,xy2s])\n",
    "    \n",
    "    return matrix, b"
   ]
  },
  {
   "cell_type": "code",
   "execution_count": 12,
   "id": "9a769aab",
   "metadata": {},
   "outputs": [],
   "source": [
    "def GausSeidel(A,b,x0, itmax=1000, tolerancia= 1e-9):\n",
    "    \n",
    "    x = x0.copy()\n",
    "    \n",
    "    for it in range(itmax):\n",
    "        \n",
    "        for i in range(A.shape[0]):\n",
    "            \n",
    "            sum_ = 0.\n",
    "            \n",
    "            for j in range(A.shape[1]):\n",
    "                \n",
    "                if j!=i:\n",
    "                    sum_ += A[i,j]*x[j]\n",
    "                    \n",
    "            x[i] = (b[i] - sum_)/A[i,i]\n",
    "            \n",
    "        \n",
    "        \n",
    "        residuo = np.linalg.norm( np.dot(A,x) - b )\n",
    "       \n",
    "        \n",
    "        if np.allclose(residuo,tolerancia,atol=tolerancia):\n",
    "            break\n",
    "        \n",
    "    return x\n"
   ]
  },
  {
   "cell_type": "code",
   "execution_count": 14,
   "id": "199364fd",
   "metadata": {},
   "outputs": [],
   "source": [
    "x_=data2[:,0]\n",
    "y_=data2[:,1]\n",
    "\n",
    "A,b=MatrixC(x_,y_)\n",
    "x0=np.zeros([3])\n",
    "Aes=GausSeidel(A,b,x0 )"
   ]
  },
  {
   "cell_type": "code",
   "execution_count": 15,
   "id": "eb8ee935",
   "metadata": {},
   "outputs": [
    {
     "name": "stdout",
     "output_type": "stream",
     "text": [
      "El valor que toma a0 es 1.221320529907348\n",
      "El valor que toma a1 es 6.090752049650234\n",
      "El valor que toma a2 es 2.95658740147231\n"
     ]
    }
   ],
   "source": [
    "\n",
    "print('El valor que toma a0 es '+ str(Aes[0]))\n",
    "print('El valor que toma a1 es '+ str(Aes[1]))\n",
    "print('El valor que toma a2 es '+ str(Aes[2]))\n"
   ]
  },
  {
   "cell_type": "code",
   "execution_count": 16,
   "id": "84c1c6a9",
   "metadata": {},
   "outputs": [],
   "source": [
    "X=np.linspace(np.min(x_), np.max(x_),100)\n",
    "Y=fcc(X, Aes)"
   ]
  },
  {
   "cell_type": "code",
   "execution_count": 17,
   "id": "41ea4a44",
   "metadata": {},
   "outputs": [
    {
     "data": {
      "text/plain": [
       "[<matplotlib.lines.Line2D at 0x287d25766e0>]"
      ]
     },
     "execution_count": 17,
     "metadata": {},
     "output_type": "execute_result"
    },
    {
     "data": {
      "image/png": "[encoded data removed]",
      "text/plain": [
       "<Figure size 640x480 with 1 Axes>"
      ]
     },
     "metadata": {},
     "output_type": "display_data"
    }
   ],
   "source": [
    "plt.scatter(x_,y_)\n",
    "plt.plot(X,Y, 'r')"
   ]
  },
  {
   "cell_type": "code",
   "execution_count": null,
   "id": "573b5273",
   "metadata": {},
   "outputs": [],
   "source": []
  }
 ],
 "metadata": {
  "kernelspec": {
   "display_name": "Python 3 (ipykernel)",
   "language": "python",
   "name": "python3"
  },
  "language_info": {
   "codemirror_mode": {
    "name": "ipython",
    "version": 3
   },
   "file_extension": ".py",
   "mimetype": "text/x-python",
   "name": "python",
   "nbconvert_exporter": "python",
   "pygments_lexer": "ipython3",
   "version": "3.10.9"
  }
 },
 "nbformat": 4,
 "nbformat_minor": 5
}
