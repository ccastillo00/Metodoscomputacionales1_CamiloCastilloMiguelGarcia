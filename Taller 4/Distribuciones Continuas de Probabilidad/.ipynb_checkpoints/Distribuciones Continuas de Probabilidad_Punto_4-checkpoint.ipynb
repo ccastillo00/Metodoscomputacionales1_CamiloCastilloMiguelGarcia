{
 "cells": [
  {
   "cell_type": "code",
   "execution_count": 1,
   "id": "7d42a360",
   "metadata": {},
   "outputs": [],
   "source": [
    "import numpy as np\n",
    "import sympy as sym\n",
    "from scipy.integrate import quad"
   ]
  },
  {
   "cell_type": "code",
   "execution_count": null,
   "id": "f4bdc5b7",
   "metadata": {},
   "outputs": [],
   "source": [
    "f= lambda x: sym.exp(-x)\n",
    "g= lambda x: 3\n",
    "x=sym.Symbol('x', Real=True)"
   ]
  },
  {
   "cell_type": "markdown",
   "id": "b5a4e7f7",
   "metadata": {},
   "source": [
    "# Punto 4  "
   ]
  },
  {
   "cell_type": "markdown",
   "id": "1d509999",
   "metadata": {},
   "source": [
    "Una variable aleatoria continua X tiene una función densidad\n",
    "$$\n",
    "f(x)= \\left\\{ \\begin{array}{lcc}\n",
    "             e^{-x} &   si  & x > 0 \\\\\n",
    "             \\\\ 0 &  \\ en\\ otro\\ caso\n",
    "             \\end{array}\n",
    "   \\right.\n",
    "$$\n",
    "\n",
    "Encuentre el valor esperado de $g(X) =e{\\frac{2X}{3}}=3$.Recuerde que el valor esperado de la\n",
    "variable aleatoria $g(X)$ está dada por:\n",
    "\n",
    "$$\n",
    "\\mu_g(X)=\\int_{-\\infty}^{\\infty}g(x)f(x)dx\n",
    "$$"
   ]
  },
  {
   "cell_type": "markdown",
   "id": "20a8ce21",
   "metadata": {},
   "source": [
    "La función $f(x)$ tiene dpstramos, por lo que se puede dividir la integral en dos partes.\n",
    "\n",
    "\n",
    "$$\n",
    "\\mu_g(X)=\\int_{-\\infty}^{0}g(x)f(x)dx+\\int_{0}^{\\infty}g(x)f(x)dx\n",
    "$$\n",
    "\n",
    "Sin embargo, cuando $x\\leq0$, $f(x)=0$. Por lo que la integral quedaría de la siguiente manera\n",
    "\n",
    "$$\n",
    "\\mu_g(X)=\\int_{0}^{\\infty}g(x)f(x)dx=\\int_{0}^{\\infty}e^{\\frac{2x}{3}}e^{-x}dx=3\\int_{0}^{\\infty}e^{\\frac{-x}{3}}\n",
    "$$\n",
    "\n"
   ]
  },
  {
   "cell_type": "code",
   "execution_count": 85,
   "id": "467e7ad1",
   "metadata": {},
   "outputs": [],
   "source": [
    "f= lambda x: sym.exp(-x/3)\n",
    "x=sym.Symbol('x', Real=True)"
   ]
  },
  {
   "cell_type": "markdown",
   "id": "68e694c5",
   "metadata": {},
   "source": [
    "Esto lo podemos comprobar usando la librería SymPy"
   ]
  },
  {
   "cell_type": "code",
   "execution_count": 86,
   "id": "543fea50",
   "metadata": {},
   "outputs": [
    {
     "data": {
      "text/latex": [
       "$\\displaystyle 3$"
      ],
      "text/plain": [
       "3"
      ]
     },
     "execution_count": 86,
     "metadata": {},
     "output_type": "execute_result"
    }
   ],
   "source": [
    "sym.integrate(f(x),(x,0,sym.oo ))"
   ]
  }
 ],
 "metadata": {
  "kernelspec": {
   "display_name": "Python 3 (ipykernel)",
   "language": "python",
   "name": "python3"
  },
  "language_info": {
   "codemirror_mode": {
    "name": "ipython",
    "version": 3
   },
   "file_extension": ".py",
   "mimetype": "text/x-python",
   "name": "python",
   "nbconvert_exporter": "python",
   "pygments_lexer": "ipython3",
   "version": "3.10.9"
  }
 },
 "nbformat": 4,
 "nbformat_minor": 5
}
