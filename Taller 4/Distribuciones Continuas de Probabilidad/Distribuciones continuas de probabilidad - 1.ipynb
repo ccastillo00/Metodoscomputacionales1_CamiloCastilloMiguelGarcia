{
 "cells": [
  {
   "cell_type": "code",
   "execution_count": 23,
   "id": "1697fbd3",
   "metadata": {},
   "outputs": [],
   "source": [
    "import sympy as sp"
   ]
  },
  {
   "cell_type": "code",
   "execution_count": 24,
   "id": "4d8584c5",
   "metadata": {},
   "outputs": [],
   "source": [
    "x, y = sp.symbols('x y')\n",
    "f = (2/3)*(x + 2*y)"
   ]
  },
  {
   "cell_type": "code",
   "execution_count": 25,
   "id": "99c81dc2",
   "metadata": {},
   "outputs": [],
   "source": [
    "non_negativity = sp.And(x + 2*y >= 0, 0 <= x, x <= 1, 0 <= y, y <= 1)\n",
    "integral = sp.integrate(sp.integrate(f, (x, 0, 1)), (y, 0, 1))\n",
    "validity_check = non_negativity and integral == 1"
   ]
  },
  {
   "cell_type": "code",
   "execution_count": 26,
   "id": "4ced4719",
   "metadata": {},
   "outputs": [
    {
     "name": "stdout",
     "output_type": "stream",
     "text": [
      "Verificación de no negatividad: (x >= 0) & (y >= 0) & (x <= 1) & (y <= 1) & (x >= -2*y)\n",
      "Verificación de integral igual a 1: 1.00000000000000\n",
      "La función de densidad conjunta es válida: True\n"
     ]
    }
   ],
   "source": [
    "print(\"Verificación de no negatividad:\", sp.simplify(non_negativity))\n",
    "print(\"Verificación de integral igual a 1:\", sp.simplify(integral))\n",
    "print(\"La función de densidad conjunta es válida:\", validity_check)"
   ]
  },
  {
   "cell_type": "code",
   "execution_count": 27,
   "id": "959788e2",
   "metadata": {},
   "outputs": [
    {
     "name": "stdout",
     "output_type": "stream",
     "text": [
      "Distribución marginal g(x): 0.666666666666667*x + 0.666666666666667\n",
      "Distribución marginal h(y): 1.33333333333333*y + 0.333333333333333\n"
     ]
    }
   ],
   "source": [
    "g_x = sp.integrate(f, (y, 0, 1))\n",
    "h_y = sp.integrate(f, (x, 0, 1))\n",
    "\n",
    "print(\"Distribución marginal g(x):\", g_x)\n",
    "print(\"Distribución marginal h(y):\", h_y)"
   ]
  },
  {
   "cell_type": "code",
   "execution_count": 28,
   "id": "0f81d344",
   "metadata": {},
   "outputs": [
    {
     "name": "stdout",
     "output_type": "stream",
     "text": [
      "E(x): 0.555555555555556\n"
     ]
    }
   ],
   "source": [
    "E_x = sp.integrate(x * f, (x, 0, 1), (y, 0, 1))\n",
    "\n",
    "print(\"E(x):\", E_x)"
   ]
  },
  {
   "cell_type": "code",
   "execution_count": 29,
   "id": "8c5fd2bb",
   "metadata": {},
   "outputs": [
    {
     "name": "stdout",
     "output_type": "stream",
     "text": [
      "E(y): 0.611111111111111\n"
     ]
    }
   ],
   "source": [
    "E_y = sp.integrate(y * f, (x, 0, 1), (y, 0, 1))\n",
    "\n",
    "print(\"E(y):\", E_y)"
   ]
  },
  {
   "cell_type": "code",
   "execution_count": 34,
   "id": "6ace10fb",
   "metadata": {},
   "outputs": [
    {
     "name": "stdout",
     "output_type": "stream",
     "text": [
      "Covarianza σxy: -0.00617283950617281\n"
     ]
    }
   ],
   "source": [
    "E_xy = sp.integrate(x * y * f, (x, 0, 1), (y, 0, 1))\n",
    "covarianza1 = E_xy - E_x * E_y\n",
    "\n",
    "print(\"Covarianza σxy:\", covarianza1)"
   ]
  },
  {
   "cell_type": "code",
   "execution_count": 36,
   "id": "a357559b",
   "metadata": {},
   "outputs": [
    {
     "name": "stdout",
     "output_type": "stream",
     "text": [
      "Covarianza σxy: -0.00617283950617284\n"
     ]
    }
   ],
   "source": [
    "mu_x = sp.integrate(x * f, (x, 0, 1), (y, 0, 1))\n",
    "mu_y = sp.integrate(y * f, (x, 0, 1), (y, 0, 1))\n",
    "\n",
    "covarianza2 = sp.integrate((x - mu_x) * (y - mu_y) * f, (x, 0, 1), (y, 0, 1))\n",
    "\n",
    "print(\"Covarianza σxy:\", covarianza2)"
   ]
  },
  {
   "cell_type": "code",
   "execution_count": 44,
   "id": "c3bda355",
   "metadata": {},
   "outputs": [
    {
     "name": "stdout",
     "output_type": "stream",
     "text": [
      "Las variables son independientes solo si sus covarianzas son iguales a 0, en este caso las covarianzas nos han dado -0.00617283950617281 Por lo tanto no son independientes. Resultado de independencia = False\n"
     ]
    }
   ],
   "source": [
    "independientes = sp.simplify(f - g_x * h_y) == 0\n",
    "\n",
    "print(\"Las variables son independientes solo si sus covarianzas son iguales a 0, en este caso las covarianzas nos han dado\", covarianza1, \"Por lo tanto no son independientes.\", \"Resultado de independencia =\",independientes)"
   ]
  }
 ],
 "metadata": {
  "kernelspec": {
   "display_name": "Python 3 (ipykernel)",
   "language": "python",
   "name": "python3"
  },
  "language_info": {
   "codemirror_mode": {
    "name": "ipython",
    "version": 3
   },
   "file_extension": ".py",
   "mimetype": "text/x-python",
   "name": "python",
   "nbconvert_exporter": "python",
   "pygments_lexer": "ipython3",
   "version": "3.9.13"
  }
 },
 "nbformat": 4,
 "nbformat_minor": 5
}
