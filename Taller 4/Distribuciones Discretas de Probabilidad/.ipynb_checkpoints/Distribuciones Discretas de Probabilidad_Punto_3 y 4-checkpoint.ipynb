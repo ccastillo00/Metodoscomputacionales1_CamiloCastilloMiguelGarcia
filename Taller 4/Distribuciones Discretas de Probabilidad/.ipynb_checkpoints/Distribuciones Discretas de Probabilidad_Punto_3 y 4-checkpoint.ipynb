{
 "cells": [
  {
   "cell_type": "code",
   "execution_count": 312,
   "id": "f6d5396d",
   "metadata": {},
   "outputs": [],
   "source": [
    "import numpy as np\n",
    "import sympy as sym\n",
    "from fractions import Fraction"
   ]
  },
  {
   "cell_type": "markdown",
   "id": "43204bff",
   "metadata": {},
   "source": [
    "# Punto 3"
   ]
  },
  {
   "cell_type": "markdown",
   "id": "0993b7b3",
   "metadata": {},
   "source": [
    "Un embarque de $10$ microchips similares que se envía a distribución tiene $3$ aparatos defectuosos. Si una empresa realiza un compra aleatoria de $2$ de estos microchips.\n",
    "\n",
    "$a)$ Muestre que la distribución de probabilidad del número de microchips defectuosos.\n",
    "\n",
    "$$\n",
    "f(x)=\\frac{\\binom{7}{2-x}\\binom{3}{x}}{\\binom{10}{2}}\n",
    "$$"
   ]
  },
  {
   "cell_type": "markdown",
   "id": "5103b3bf",
   "metadata": {},
   "source": [
    "Primero, toca definir la cantidad de posibles compras dado que la cantidad de microchips del embarque son $10$ y la empresa solo va a comprar $2$ de esos $10$. Dado que no importan el orden y es sin repetición, ya que no se puede comprar dos veces el mismo microchip, se tiene que\n",
    "\n",
    "$$\n",
    "C_2^{10}=\\frac{10!}{2!(10-2)!}=\\frac{10!}{2!(8)!}\n",
    "$$\n",
    "\n",
    "También se puede representar como \n",
    "$$\n",
    "C_2^{10}=\\binom{10}{2}\n",
    "$$\n",
    "\n",
    "Después, se calculan las combinaciones de que $0$,$1$ y $2$ microchips no salgan defectuosos de $7$ microchips (cantidad que corresponde a la cantidad de microchips no defectuosos del embarque).\n",
    "\n",
    "Para el caso en que se toman $2$ microchips y ninguno sale defectuoso, las combinaciones estan dadas por\n",
    "$$\n",
    "C_2^{7}=\\frac{7!}{2!(7-2)!}=\\frac{7!}{2!(5)!}=\\binom{7}{2}\n",
    "$$\n",
    "y para los otros dos casos, las combinaciones estan dadas por\n",
    "\n",
    "\n",
    "Caso en que solo hay $1$ de $2$ microchips dañados\n",
    "$$\n",
    "C_1^{7}=\\frac{7!}{1!(7-1)!}=\\frac{7!}{1!(6)!}=\\binom{7}{1}\n",
    "$$\n",
    "\n",
    "Caso en que ambos microchips estan dañados\n",
    "$$\n",
    "C_0^{7}=\\frac{7!}{0!(7-0)!}=\\frac{7!}{0!(7)!}=\\binom{7}{0}\n",
    "$$\n",
    "\n",
    "Como se puede ver, las combinaciones dependen de la cantidad de microchips dañados y la cantidad de microchips. Siendo $n$ ($n=2$) la cantidad de microchips comprados y $x$ la cantidad de microchips defectuosos. La cantidad de microchips no defectuosos esta dados por\n",
    "\n",
    "$$\n",
    "n-x=2-x\n",
    "$$\n",
    "\n",
    "Por lo que podemos escribir los casos anteriores de forma general de la siguiente manera\n",
    "\n",
    "$$\n",
    "C_{2-x}^{7}=\\frac{7!}{(2-x)!(7-(2-x))!}=\\frac{7!}{(2-x)!(5+x)!}=\\binom{7}{2-x}\n",
    "$$\n",
    "\n",
    "Por otro lado, se calculan las combinaciones de que $2$,$1$ y $0$ microchips salgan defectuosos de $3$ (cantidad que corresponde a la cantidad de microchips defectuosos del embarque).\n",
    "\n",
    "Para el caso en que se toman $2$ microchips y ninguno sale defectuoso, las combinaciones estan dadas por\n",
    "\n",
    "$$\n",
    "C_0^{3}=\\frac{3!}{0!(3-0)!}=\\frac{3!}{0!(3)!}=\\binom{3}{0}\n",
    "$$\n",
    "y para los otros casos, las combinaciones estan dadas por\n",
    "\n",
    "Caso en que solo hay $1$ de $2$ microchips dañados\n",
    "$$\n",
    "C_1^{3}=\\frac{3!}{1!(3-1)!}=\\frac{3!}{1!(2)!}=\\binom{3}{1}\n",
    "$$\n",
    "\n",
    "Caso en que ambos microchips estan dañados\n",
    "$$\n",
    "C_2^{3}=\\frac{3!}{2!(3-2)!}=\\frac{3!}{2!(1)!}=\\binom{3}{2}\n",
    "$$\n",
    "\n",
    "Comose evidencia, las combinaciones dependen únicamente de la cantidad de microchips dañados que vamos a representar como se hizo anteriormente con $x$ para presentar los casos anteriores de una froma más general\n",
    "\n",
    "$$\n",
    "C_x^{3}=\\frac{3!}{x!(3-x)!}=\\binom{3}{x}\n",
    "$$\n",
    "\n",
    "Luego, se toman las combinaciones de $C_x^{3}$ y de $C_{2-x}^{7}$, y se multiplican para que den los casos favorables. Para luego dividirlos en los casos posibles ($C_2^{10}$). Poniendolos como binomios, dando así una función de distribución con $x$ como variables aleatoria\n",
    "\n",
    "$$\n",
    "f(x)=\\frac{\\binom{7}{2-x}\\binom{3}{x}}{\\binom{10}{2}}\n",
    "$$"
   ]
  },
  {
   "cell_type": "code",
   "execution_count": 178,
   "id": "acbfc7ce",
   "metadata": {},
   "outputs": [],
   "source": [
    "def f(x):\n",
    "    \n",
    "    t1 = sym.factorial(7)/(sym.factorial(2-x)*sym.factorial(7-(2-x)))\n",
    "    t2 = sym.factorial(3)/(sym.factorial(x)*sym.factorial(3-x))\n",
    "    t3 = sym.factorial(10)/(sym.factorial(2)*sym.factorial(8))\n",
    "    \n",
    "    return t1*t2/t3\n",
    "                             "
   ]
  },
  {
   "cell_type": "code",
   "execution_count": 179,
   "id": "d56d9d6b",
   "metadata": {},
   "outputs": [
    {
     "name": "stdout",
     "output_type": "stream",
     "text": [
      "Para x=0, f(x)=7/15\n",
      "Para x=1, f(x)=7/15\n",
      "Para x=2, f(x)=1/15\n"
     ]
    }
   ],
   "source": [
    "vf = np.array([])\n",
    "for i in range(3):\n",
    "    \n",
    "    vf = np.append(vf, f(i))\n",
    "    print ('Para x='+str(i)+', f(x)='+str(f(i)))"
   ]
  },
  {
   "cell_type": "markdown",
   "id": "07b9a2b8",
   "metadata": {},
   "source": [
    "$b)$¿Cuál es valor esperado de microchips defectuosos?\n"
   ]
  },
  {
   "cell_type": "code",
   "execution_count": 180,
   "id": "0b19f1c8",
   "metadata": {},
   "outputs": [
    {
     "data": {
      "text/latex": [
       "$\\displaystyle \\frac{3}{5}$"
      ],
      "text/plain": [
       "3/5"
      ]
     },
     "execution_count": 180,
     "metadata": {},
     "output_type": "execute_result"
    }
   ],
   "source": [
    "µ = np.sum(x*vf)\n",
    "µ"
   ]
  },
  {
   "cell_type": "markdown",
   "id": "b249da6e",
   "metadata": {},
   "source": [
    "# Punto 4"
   ]
  },
  {
   "cell_type": "markdown",
   "id": "86de3306",
   "metadata": {},
   "source": [
    "Una caja cuántica tiene $3$ electrones, $2$ protones y $3$ neutrones. Se selecciona una muestra\n",
    "aleatoria de $4$ partículas. Si $x$ es el número de electrones $e$ y es el número de protones.\n",
    "\n",
    "$a)$ Muestre que la distribución de probabilidad conjunta $f(x, y)$ es:\n",
    "\n",
    "\n",
    "$$\n",
    "f(x)=\\frac{\\binom{3}{x}\\binom{2}{y}\\binom{3}{4-x-y}}{\\binom{8}{4}}\n",
    "$$\n",
    "\n",
    "\n",
    "Para comenzar, toca definir los casos posibles. En este caso, los casos posibles son las combinaciones diferentes que hay al coger $4$ partículas de $8$ ($3$ electrones, $2$ protones y $3$ neutrones). Dado en que no importa el orden en que se tomen y es sin repetición, ya que no se puede tomar 2 veces la misma partícula, se tiene que\n",
    "\n",
    "$$\n",
    "C_4^{8}=\\frac{8!}{4!(8-4)!}=\\frac{8!}{4!(4)!}=\\binom{8}{4}\n",
    "$$\n",
    "\n",
    "Luego se calculan las combinaciones que hay de que se tomen $0$, $1$, $2$ y $3$ electrones de los $3$ electrones que hay en la caja cuántica. A esta cantidad aleatoria de electrones que pueden salir los podemos denominar como $x$. Teniendo en cuenta esto las combianciones serian\n",
    "\n",
    "$$\n",
    "C_x^{3}=\\frac{3!}{x!(3-x)!}=\\binom{3}{x}\n",
    "$$\n",
    "\n",
    "Del mismo modo se calcularían las combianciones para el caso de los electrones, siend $y$ la variable aleatoria que puede tomar los valores $0$,$1$ y $2$ de los $2$ que hay en la caja cuántica. Por ello, las combinaciones estan dadas por\n",
    "$$\n",
    "C_y^{2}=\\frac{2!}{y!(2-y)!}=\\binom{2}{y}\n",
    "$$\n",
    "\n",
    "Sin embargo, para el caso de los neutrones es diferente, ya que depende del tamaño de la muestra ($4$), y de la cantidad de protones y electrones que seleccionaron. Teniendo en cuenta que el tamaño la muestra es $4$, además que $x$ y $y$ mientras más grandes sean, menor es la cantidad de neutrones de la muestra. Por ello, la cantidad de neutrones se puede expresar de la siguiente manera\n",
    "\n",
    "$$\n",
    "n=4-x-y\n",
    "$$\n",
    "\n",
    "Es decir, su combinatoria esta dada por\n",
    "\n",
    "$$\n",
    "C_{4-x-y}^{3}=\\frac{3!}{(4-x-y)!(3-(4-x-y))!}=\\frac{3!}{(4-x-y)!(x+y-1))!}=\\binom{3}{4-x-y}\n",
    "$$\n",
    "\n",
    "Siempre y cuando \n",
    "\n",
    "$$\n",
    "1 \\leq 4-x-y \\leq 3 \\rightarrow 1 \\leq x+y \\leq 3\n",
    "$$\n",
    "\n",
    "Multiplicando las combinaciones de $C_{4-x-y}^{3}$,$C_y^{2}$ y $C_x^{3}$, nos dan los casos favorables en función de $x$ y $y$. Luego si lo dividimos entre los casos posibles(${\\binom{8}{4}}$), tenemos la función de distribución de probabilidad conjunta que se buscaba \n",
    "\n",
    "$$\n",
    "f(x)=\\frac{\\binom{3}{x}\\binom{2}{y}\\binom{3}{4-x-y}}{\\binom{8}{4}}\n",
    "$$"
   ]
  },
  {
   "cell_type": "markdown",
   "id": "ea376d20",
   "metadata": {},
   "source": [
    "$b)$ Hallar las distribuciones marginales $g(x)$ y $h(y)$."
   ]
  },
  {
   "cell_type": "code",
   "execution_count": 181,
   "id": "c0109a64",
   "metadata": {},
   "outputs": [],
   "source": [
    "def fm(x,y):\n",
    "    \n",
    "    t1 = sym.factorial(3)/(sym.factorial(x)*sym.factorial(3-x))\n",
    "    t2 = sym.factorial(2)/(sym.factorial(y)*sym.factorial(2-y))\n",
    "    \n",
    "    t3 = sym.factorial(3)/(sym.factorial(4-x-y)*sym.factorial(3-(4-x-y)))\n",
    "\n",
    "        \n",
    "    t4 = sym.factorial(8)/(sym.factorial(4)*sym.factorial(4))\n",
    "    #print(x,y)\n",
    "    #print(t1,t2,t3,t4)\n",
    "    return t1*t2*t3/t4"
   ]
  },
  {
   "cell_type": "code",
   "execution_count": 243,
   "id": "595aeffd",
   "metadata": {},
   "outputs": [
    {
     "data": {
      "text/plain": [
       "array([[0.        , 0.02857143, 0.04285714],\n",
       "       [0.04285714, 0.25714286, 0.12857143],\n",
       "       [0.12857143, 0.25714286, 0.04285714],\n",
       "       [0.04285714, 0.02857143, 0.        ]])"
      ]
     },
     "execution_count": 243,
     "metadata": {},
     "output_type": "execute_result"
    }
   ],
   "source": [
    "e=np.array([0,1,2,3])\n",
    "p=np.array([0,1,2])\n",
    "values=np.zeros([4,3])\n",
    "for i in range(4):\n",
    "    for j in range(3):\n",
    "        if 0<=(4-i-j) and (4-i-j)<=4:\n",
    "            values[i,j]=fm(i,j)\n",
    "        else:\n",
    "            values[i,j]=0\n",
    "            #print(i,j)\n",
    "values\n"
   ]
  },
  {
   "cell_type": "code",
   "execution_count": 244,
   "id": "d84a8abc",
   "metadata": {},
   "outputs": [
    {
     "data": {
      "text/plain": [
       "1.0"
      ]
     },
     "execution_count": 244,
     "metadata": {},
     "output_type": "execute_result"
    }
   ],
   "source": [
    "tot_sum=round(np.sum(values),6)\n",
    "tot_sum"
   ]
  },
  {
   "cell_type": "code",
   "execution_count": 245,
   "id": "1e05f35f",
   "metadata": {},
   "outputs": [
    {
     "name": "stdout",
     "output_type": "stream",
     "text": [
      "Las distribuciones marginales de g(x) son:\n"
     ]
    },
    {
     "data": {
      "text/latex": [
       "$\\displaystyle \\left[\\begin{matrix}0.0714285714285714\\\\0.428571428571429\\\\0.428571428571429\\\\0.0714285714285714\\end{matrix}\\right]$"
      ],
      "text/plain": [
       "Matrix([\n",
       "[0.0714285714285714],\n",
       "[ 0.428571428571429],\n",
       "[ 0.428571428571429],\n",
       "[0.0714285714285714]])"
      ]
     },
     "execution_count": 245,
     "metadata": {},
     "output_type": "execute_result"
    }
   ],
   "source": [
    "print('Las distribuciones marginales de g(x) son:')\n",
    "g=sym.Matrix(np.sum(values, axis=1))\n",
    "g"
   ]
  },
  {
   "cell_type": "code",
   "execution_count": 246,
   "id": "c0e07b67",
   "metadata": {},
   "outputs": [
    {
     "name": "stdout",
     "output_type": "stream",
     "text": [
      "Las distribuciones marginales de h(y) son:\n"
     ]
    },
    {
     "data": {
      "text/latex": [
       "$\\displaystyle \\left[\\begin{matrix}0.214285714285714\\\\0.571428571428571\\\\0.214285714285714\\end{matrix}\\right]$"
      ],
      "text/plain": [
       "Matrix([\n",
       "[0.214285714285714],\n",
       "[0.571428571428571],\n",
       "[0.214285714285714]])"
      ]
     },
     "execution_count": 246,
     "metadata": {},
     "output_type": "execute_result"
    }
   ],
   "source": [
    "print('Las distribuciones marginales de h(y) son:')\n",
    "h=sym.Matrix(np.sum(values, axis=0))\n",
    "h"
   ]
  },
  {
   "cell_type": "markdown",
   "id": "1b1eb587",
   "metadata": {},
   "source": [
    "$c)$ Halle el valor esperado de electrones: $E(x) = \\frac{105}{70}$"
   ]
  },
  {
   "cell_type": "code",
   "execution_count": 247,
   "id": "e4634f8a",
   "metadata": {},
   "outputs": [
    {
     "name": "stdout",
     "output_type": "stream",
     "text": [
      "El valor esperado de electrones es:\n"
     ]
    },
    {
     "data": {
      "text/latex": [
       "$\\displaystyle 1.5$"
      ],
      "text/plain": [
       "1.50000000000000"
      ]
     },
     "execution_count": 247,
     "metadata": {},
     "output_type": "execute_result"
    }
   ],
   "source": [
    "Ex=np.sum(sym.Matrix(e).T*g)\n",
    "print('El valor esperado de electrones es:')\n",
    "Ex"
   ]
  },
  {
   "cell_type": "markdown",
   "id": "baedec4f",
   "metadata": {},
   "source": [
    "$d)$ Halle el valor esperado de electrones: $E(y) = 1$"
   ]
  },
  {
   "cell_type": "code",
   "execution_count": 248,
   "id": "ab80cb2f",
   "metadata": {},
   "outputs": [
    {
     "name": "stdout",
     "output_type": "stream",
     "text": [
      "El valor esperado de protones es:\n"
     ]
    },
    {
     "data": {
      "text/latex": [
       "$\\displaystyle 1.0$"
      ],
      "text/plain": [
       "1.00000000000000"
      ]
     },
     "execution_count": 248,
     "metadata": {},
     "output_type": "execute_result"
    }
   ],
   "source": [
    "Ey=np.sum(sym.Matrix(p).T*h)\n",
    "print('El valor esperado de protones es:')\n",
    "Ey"
   ]
  },
  {
   "cell_type": "markdown",
   "id": "e1728f94",
   "metadata": {},
   "source": [
    "$e)$ Calcular la covarianza usando: $\\sigma_{xy}=E(xy)-E(x)E(y)=\\frac{-3}{14}$"
   ]
  },
  {
   "cell_type": "code",
   "execution_count": 345,
   "id": "c545598e",
   "metadata": {},
   "outputs": [
    {
     "data": {
      "text/latex": [
       "$\\displaystyle - \\frac{3}{14}$"
      ],
      "text/plain": [
       "-3/14"
      ]
     },
     "execution_count": 345,
     "metadata": {},
     "output_type": "execute_result"
    }
   ],
   "source": [
    "Exy1=0\n",
    "for i in range(len(e)):\n",
    "    for j in range(len(p)):\n",
    "        Exy1+=e[i]*p[j]*fm(e[i],p[j])\n",
    "Exy1-Fraction(str(Ex*Ey))\n"
   ]
  },
  {
   "cell_type": "markdown",
   "id": "b48a10d8",
   "metadata": {},
   "source": [
    "$f)$ Calcular la covarianza usando: $\\sigma_{xy}=E((x-\\mu_x)(y-\\mu_y))=\\frac{-3}{14}$"
   ]
  },
  {
   "cell_type": "code",
   "execution_count": 355,
   "id": "d2c52775",
   "metadata": {},
   "outputs": [
    {
     "data": {
      "text/latex": [
       "$\\displaystyle - \\frac{3}{14}$"
      ],
      "text/plain": [
       "-3/14"
      ]
     },
     "execution_count": 355,
     "metadata": {},
     "output_type": "execute_result"
    }
   ],
   "source": [
    "Exy2=0\n",
    "for i in range(len(e)):\n",
    "    for j in range(len(p)):\n",
    "        Exy2+=(e[i]-Fraction(str(Ex)))*(p[j]-Fraction(str(Ey)))*fm(e[i],p[j])\n",
    "Exy2"
   ]
  },
  {
   "cell_type": "markdown",
   "id": "234979fd",
   "metadata": {},
   "source": [
    "$e)$ Son las variables x e y independientes?\n",
    "\n",
    "No son independientes, dado que la covarianza no es 0 y son lineales. Es decir, presentan una relación lineal. En este caso, la covarianza es $\\frac{-3}{14}$, por lo que presenta  una relación inversa con la otra variable, dado que es negativo, pues mientras el número de protones aumenta, el número de electrones posiblemente disminuya."
   ]
  }
 ],
 "metadata": {
  "kernelspec": {
   "display_name": "Python 3 (ipykernel)",
   "language": "python",
   "name": "python3"
  },
  "language_info": {
   "codemirror_mode": {
    "name": "ipython",
    "version": 3
   },
   "file_extension": ".py",
   "mimetype": "text/x-python",
   "name": "python",
   "nbconvert_exporter": "python",
   "pygments_lexer": "ipython3",
   "version": "3.10.9"
  }
 },
 "nbformat": 4,
 "nbformat_minor": 5
}
