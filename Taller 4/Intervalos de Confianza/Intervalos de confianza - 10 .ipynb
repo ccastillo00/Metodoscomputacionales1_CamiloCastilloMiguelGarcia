{
 "cells": [
  {
   "cell_type": "code",
   "execution_count": 109,
   "id": "65afc9cf",
   "metadata": {},
   "outputs": [],
   "source": [
    "import numpy as np\n",
    "import scipy.stats as stats"
   ]
  },
  {
   "cell_type": "code",
   "execution_count": 130,
   "id": "c233ab1c",
   "metadata": {},
   "outputs": [],
   "source": [
    "sample_size = 5\n",
    "sample_variance = 0.815\n",
    "population_std_dev_claimed = 1"
   ]
  },
  {
   "cell_type": "code",
   "execution_count": 129,
   "id": "0cceb283",
   "metadata": {},
   "outputs": [],
   "source": [
    "sample_std_dev = np.sqrt(sample_variance)\n",
    "alpha = 0.01  \n",
    "z_critical = stats.norm.ppf(1 - alpha/2)  "
   ]
  },
  {
   "cell_type": "code",
   "execution_count": 128,
   "id": "e783a77a",
   "metadata": {},
   "outputs": [
    {
     "name": "stdout",
     "output_type": "stream",
     "text": [
      "La observación está de acuerdo con la afirmación del fabricante.\n"
     ]
    }
   ],
   "source": [
    "lower_bound = population_std_dev_claimed - (z_critical * sample_std_dev / math.sqrt(sample_size))\n",
    "upper_bound = population_std_dev_claimed + (z_critical * sample_std_dev / math.sqrt(sample_size))\n",
    "\n",
    "if lower_bound <= population_std_dev_claimed <= upper_bound:\n",
    "    print(\"La observación está de acuerdo con la afirmación del fabricante.\")\n",
    "else:\n",
    "    print(\"La observación no está de acuerdo con la afirmación del fabricante.\")\n"
   ]
  },
  {
   "cell_type": "code",
   "execution_count": 127,
   "id": "a73a2bea",
   "metadata": {},
   "outputs": [],
   "source": [
    "test_statistic = (sample_size - 1) * sample_variance / population_std_dev**2\n",
    "degrees_of_freedom = sample_size - 1"
   ]
  },
  {
   "cell_type": "code",
   "execution_count": 126,
   "id": "fc543fd0",
   "metadata": {},
   "outputs": [
    {
     "name": "stdout",
     "output_type": "stream",
     "text": [
      "Valor de p: 0.6364710849653288\n"
     ]
    }
   ],
   "source": [
    "p_value = 1 - 3/4* stats.chi2.cdf(test_statistic, degrees_of_freedom)\n",
    "\n",
    "print(\"Valor de p:\", p_value)"
   ]
  },
  {
   "cell_type": "code",
   "execution_count": 124,
   "id": "dd47f23f",
   "metadata": {},
   "outputs": [],
   "source": [
    "confidence_level = 0.99 \n",
    "degrees_of_freedom = sample_size - 1\n",
    "critical_value = stats.chi2.ppf(confidence_level, degrees_of_freedom)"
   ]
  },
  {
   "cell_type": "code",
   "execution_count": 125,
   "id": "f436b1d7",
   "metadata": {},
   "outputs": [
    {
     "name": "stdout",
     "output_type": "stream",
     "text": [
      "Límite superior de la varianza: 3.3191760339969054\n"
     ]
    }
   ],
   "source": [
    "variance_upper_limit = (critical_value / (sample_size - 1)) * population_std_dev_claimed**2\n",
    "\n",
    "\n",
    "print(\"Límite superior de la varianza:\", variance_upper_limit)"
   ]
  }
 ],
 "metadata": {
  "kernelspec": {
   "display_name": "Python 3 (ipykernel)",
   "language": "python",
   "name": "python3"
  },
  "language_info": {
   "codemirror_mode": {
    "name": "ipython",
    "version": 3
   },
   "file_extension": ".py",
   "mimetype": "text/x-python",
   "name": "python",
   "nbconvert_exporter": "python",
   "pygments_lexer": "ipython3",
   "version": "3.9.13"
  }
 },
 "nbformat": 4,
 "nbformat_minor": 5
}
