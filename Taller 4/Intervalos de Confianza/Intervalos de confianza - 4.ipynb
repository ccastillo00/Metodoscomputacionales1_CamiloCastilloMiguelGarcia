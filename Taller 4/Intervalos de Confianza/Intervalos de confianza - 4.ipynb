{
 "cells": [
  {
   "cell_type": "code",
   "execution_count": 1,
   "id": "8267ae18",
   "metadata": {},
   "outputs": [],
   "source": [
    "import numpy as np\n",
    "import scipy.stats as stats"
   ]
  },
  {
   "cell_type": "code",
   "execution_count": 2,
   "id": "240f1730",
   "metadata": {},
   "outputs": [],
   "source": [
    "n = 500\n",
    "p = 0.5\n",
    "x = 260"
   ]
  },
  {
   "cell_type": "code",
   "execution_count": 3,
   "id": "ea38e0e1",
   "metadata": {},
   "outputs": [],
   "source": [
    "prob_binomial = np.sum(np.fromiter((np.math.comb(n, i) * (p ** i) * ((1 - p) ** (n - i)) for i in range(x + 1)), dtype=float))\n",
    "mu = n * p\n",
    "sigma = np.sqrt(n * p * (1 - p))\n",
    "prob_normal = 0.5 * (1 + np.math.erf((x - mu) / (sigma * np.sqrt(2))))\n"
   ]
  },
  {
   "cell_type": "code",
   "execution_count": 4,
   "id": "e37804ab",
   "metadata": {},
   "outputs": [
    {
     "name": "stdout",
     "output_type": "stream",
     "text": [
      "P(X ≤ 260) utilizando la distribución binomial: 0.8261679103434929\n",
      "P(X ≤ 260) utilizando la aproximación normal: 0.8144533152386512\n"
     ]
    }
   ],
   "source": [
    "print(\"P(X ≤ 260) utilizando la distribución binomial:\", prob_binomial)\n",
    "print(\"P(X ≤ 260) utilizando la aproximación normal:\", prob_normal)"
   ]
  },
  {
   "cell_type": "code",
   "execution_count": 5,
   "id": "cfc2950f",
   "metadata": {},
   "outputs": [],
   "source": [
    "mu = n * p\n",
    "std_dev = (n * p * (1 - p)) ** 0.5"
   ]
  },
  {
   "cell_type": "code",
   "execution_count": 8,
   "id": "2447ce7f",
   "metadata": {},
   "outputs": [],
   "source": [
    "binomial_prob2 = stats.binom.cdf(259.5, n, p) + stats.binom.cdf(230.5, n, p)\n",
    "\n",
    "normal_prob2 = stats.norm.cdf(259.5, mu, std_dev) + stats.norm.cdf(230.5, mu, std_dev)"
   ]
  },
  {
   "cell_type": "code",
   "execution_count": 9,
   "id": "a364e616",
   "metadata": {},
   "outputs": [
    {
     "name": "stdout",
     "output_type": "stream",
     "text": [
      "P(230 ≤ X ≤ 260) usando la distribución binomial: 0.8427607890871776\n",
      "P(230 ≤ X ≤ 260) usando la aproximación normal: 0.8428236207542243\n"
     ]
    }
   ],
   "source": [
    "print(\"P(230 ≤ X ≤ 260) usando la distribución binomial:\", binomial_prob2)\n",
    "print(\"P(230 ≤ X ≤ 260) usando la aproximación normal:\", normal_prob2)"
   ]
  }
 ],
 "metadata": {
  "kernelspec": {
   "display_name": "Python 3 (ipykernel)",
   "language": "python",
   "name": "python3"
  },
  "language_info": {
   "codemirror_mode": {
    "name": "ipython",
    "version": 3
   },
   "file_extension": ".py",
   "mimetype": "text/x-python",
   "name": "python",
   "nbconvert_exporter": "python",
   "pygments_lexer": "ipython3",
   "version": "3.9.13"
  }
 },
 "nbformat": 4,
 "nbformat_minor": 5
}
