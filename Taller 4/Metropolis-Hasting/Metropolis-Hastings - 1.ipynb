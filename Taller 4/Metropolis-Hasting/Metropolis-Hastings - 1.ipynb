{
 "cells": [
  {
   "cell_type": "code",
   "execution_count": 5,
   "id": "bacdc10a",
   "metadata": {},
   "outputs": [],
   "source": [
    "import numpy as np\n",
    "from scipy.stats import beta"
   ]
  },
  {
   "cell_type": "code",
   "execution_count": 6,
   "id": "8b17c5c2",
   "metadata": {},
   "outputs": [],
   "source": [
    "def metropolis(n, r, iterations):\n",
    "    p = 0.5 \n",
    "    posterior = lambda p: (p**r)*((1-p)**(n-r)) \n",
    "    for i in range(iterations):\n",
    "        p_new = np.random.uniform(0,1) \n",
    "        acceptance = min(1, posterior(p_new)/posterior(p)) \n",
    "        if np.random.uniform(0,1) < acceptance:\n",
    "            p = p_new \n",
    "    return p"
   ]
  },
  {
   "cell_type": "code",
   "execution_count": 7,
   "id": "57647af8",
   "metadata": {},
   "outputs": [
    {
     "name": "stdout",
     "output_type": "stream",
     "text": [
      "El parámetro asociado a la probabilidad de éxito ˆp de la distribución binomial es 0.860\n"
     ]
    }
   ],
   "source": [
    "n = 10\n",
    "r = 7\n",
    "iterations = 100000\n",
    "p_hat = metropolis(n, r, iterations)\n",
    "print(f\"El parámetro asociado a la probabilidad de éxito ˆp de la distribución binomial es {p_hat:.3f}\")\n"
   ]
  },
  {
   "cell_type": "code",
   "execution_count": 8,
   "id": "06e3fb14",
   "metadata": {},
   "outputs": [],
   "source": [
    "alpha = r + 1\n",
    "beta_param = n - r + 1\n",
    "lower = beta.ppf(0.16, alpha, beta_param)\n",
    "upper = beta.ppf(0.84, alpha, beta_param)"
   ]
  },
  {
   "cell_type": "code",
   "execution_count": 9,
   "id": "b8ab284d",
   "metadata": {},
   "outputs": [
    {
     "name": "stdout",
     "output_type": "stream",
     "text": [
      "Error inferior: 0.5320265610515631\n",
      "Error superior: 0.8005152368036303\n"
     ]
    }
   ],
   "source": [
    "print(\"Error inferior:\", lower)\n",
    "print(\"Error superior:\", upper)"
   ]
  }
 ],
 "metadata": {
  "kernelspec": {
   "display_name": "Python 3 (ipykernel)",
   "language": "python",
   "name": "python3"
  },
  "language_info": {
   "codemirror_mode": {
    "name": "ipython",
    "version": 3
   },
   "file_extension": ".py",
   "mimetype": "text/x-python",
   "name": "python",
   "nbconvert_exporter": "python",
   "pygments_lexer": "ipython3",
   "version": "3.9.13"
  }
 },
 "nbformat": 4,
 "nbformat_minor": 5
}
