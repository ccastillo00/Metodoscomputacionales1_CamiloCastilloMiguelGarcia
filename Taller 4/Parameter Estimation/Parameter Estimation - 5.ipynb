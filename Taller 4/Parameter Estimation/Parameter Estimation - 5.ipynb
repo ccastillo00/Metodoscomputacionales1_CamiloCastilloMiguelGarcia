{
 "cells": [
  {
   "cell_type": "markdown",
   "id": "e89d0642",
   "metadata": {},
   "source": [
    "\\begin{equation}\n",
    "f(x | \\theta) = \\frac{1}{\\theta} \\cdot e^{-\\frac{x}{\\theta}}\n",
    "\\end{equation}\n",
    "\n",
    "$\\theta$ es la escala de la distribución exponencial.\n",
    "\n",
    "El estimador de máxima verosimilitud para $\\theta$ en la distribución exponencial es la media muestral, dado por:\n",
    "\n",
    "\\begin{equation}\n",
    "\\hat{\\theta} = \\frac{1}{n} \\sum_{i=1}^{n} x_i\n",
    "\\end{equation}\n",
    "\n",
    "$x_i$ son las observaciones de la muestra, $n$ es el tamaño de la muestra.\n",
    "\n",
    "Podemos calcular la varianza del estimador:\n",
    "\n",
    "\\begin{equation}\n",
    "V(\\hat{\\theta}) = V\\left(\\frac{1}{n} \\sum_{i=1}^{n} x_i\\right)\n",
    "\\end{equation}\n",
    "\n",
    "Utilizamos la propiedad de aditividad de la varianza:\n",
    "\n",
    "\\begin{equation}\n",
    "V(\\hat{\\theta}) = \\frac{1}{n^2} \\sum_{i=1}^{n} V(x_i)\n",
    "\\end{equation}\n",
    "\n",
    "La varianza de una variable aleatoria exponencial con parámetro $\\theta$ se puede calcular como $\\theta^2$. Por lo tanto, tenemos:\n",
    "\n",
    "\\begin{equation}\n",
    "V(\\hat{\\theta}) = \\frac{1}{n^2} n \\theta^2 = \\frac{\\theta^2}{n}\n",
    "\\end{equation}\n",
    "\n",
    "El resultado analítico para la varianza del estimador de la distribución exponencial es $V(\\hat{\\theta}) = \\frac{\\theta^2}{n}$."
   ]
  },
  {
   "cell_type": "code",
   "execution_count": 49,
   "id": "7d88e022",
   "metadata": {},
   "outputs": [],
   "source": [
    "import numpy as np"
   ]
  },
  {
   "cell_type": "code",
   "execution_count": 50,
   "id": "654eedb3",
   "metadata": {},
   "outputs": [],
   "source": [
    "np.random.seed(0)  \n",
    "n = 20 \n",
    "N = int(1e6)\n",
    "\n",
    "theta = 2  \n",
    "variances = [] "
   ]
  },
  {
   "cell_type": "code",
   "execution_count": 51,
   "id": "ee0b77ca",
   "metadata": {},
   "outputs": [],
   "source": [
    "for _ in range(N):\n",
    "    sample = np.random.exponential(scale=theta, size=n)\n",
    "    estimator = np.mean(sample)  # Estimador de máxima verosimilitud\n",
    "    variances.append((estimator - theta)**2)"
   ]
  },
  {
   "cell_type": "code",
   "execution_count": 52,
   "id": "b95b1c6d",
   "metadata": {},
   "outputs": [
    {
     "name": "stdout",
     "output_type": "stream",
     "text": [
      "Varianza estimada: 0.19948098482392126\n"
     ]
    }
   ],
   "source": [
    "estimated_variance = np.mean(variances)\n",
    "print(\"Varianza estimada:\", estimated_variance)"
   ]
  }
 ],
 "metadata": {
  "kernelspec": {
   "display_name": "Python 3 (ipykernel)",
   "language": "python",
   "name": "python3"
  },
  "language_info": {
   "codemirror_mode": {
    "name": "ipython",
    "version": 3
   },
   "file_extension": ".py",
   "mimetype": "text/x-python",
   "name": "python",
   "nbconvert_exporter": "python",
   "pygments_lexer": "ipython3",
   "version": "3.9.13"
  }
 },
 "nbformat": 4,
 "nbformat_minor": 5
}
