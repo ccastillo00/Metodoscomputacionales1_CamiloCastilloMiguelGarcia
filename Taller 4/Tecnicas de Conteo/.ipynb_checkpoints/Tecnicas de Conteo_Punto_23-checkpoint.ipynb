{
 "cells": [
  {
   "cell_type": "code",
   "execution_count": 1,
   "id": "96ab5aec",
   "metadata": {},
   "outputs": [],
   "source": [
    "import numpy as np\n",
    "import sympy as sym"
   ]
  },
  {
   "cell_type": "markdown",
   "id": "6e56b108",
   "metadata": {},
   "source": [
    "# Punto 23"
   ]
  },
  {
   "cell_type": "markdown",
   "id": "768f54a5",
   "metadata": {},
   "source": [
    "Usamos combinaciones dado que no importa el orden de las agrupaciones de llaves, además el tipo de elemento se puede repetir en la agrupación, pues pueden aparacer 2 o 3 llaves del mismo color en la agrupación.\n",
    "\n",
    "$$ \\frac{(n+r-1)!}{r!(n-1)!}$$ "
   ]
  },
  {
   "cell_type": "code",
   "execution_count": 2,
   "id": "a15b48b5",
   "metadata": {},
   "outputs": [],
   "source": [
    "LR=LA=LV=3\n",
    "\n",
    "Llaves=np.array([LR,LA,LV])\n",
    "\n",
    "\n",
    "#tamaño agrupacion\n",
    "r=4"
   ]
  },
  {
   "cell_type": "code",
   "execution_count": 3,
   "id": "5a220751",
   "metadata": {},
   "outputs": [
    {
     "data": {
      "text/plain": [
       "9"
      ]
     },
     "execution_count": 3,
     "metadata": {},
     "output_type": "execute_result"
    }
   ],
   "source": [
    "Cant=np.sum(Llaves)\n",
    "Cant"
   ]
  },
  {
   "cell_type": "markdown",
   "id": "d7433acb",
   "metadata": {},
   "source": [
    "$(n+r-1)!$"
   ]
  },
  {
   "cell_type": "code",
   "execution_count": 4,
   "id": "edde0e07",
   "metadata": {},
   "outputs": [],
   "source": [
    "#Numerador combinaciones\n",
    "num=np.math.factorial(len(Llaves)+r-1)"
   ]
  },
  {
   "cell_type": "markdown",
   "id": "463e190d",
   "metadata": {},
   "source": [
    "$r!$"
   ]
  },
  {
   "cell_type": "code",
   "execution_count": 5,
   "id": "b9c76a94",
   "metadata": {},
   "outputs": [],
   "source": [
    "#r factorial\n",
    "r_fact=np.math.factorial(r)"
   ]
  },
  {
   "cell_type": "markdown",
   "id": "f6da1645",
   "metadata": {},
   "source": [
    "$(n-1)!$"
   ]
  },
  {
   "cell_type": "code",
   "execution_count": 6,
   "id": "1754dd32",
   "metadata": {},
   "outputs": [],
   "source": [
    "n_1 = np.math.factorial(len(Llaves)-1)"
   ]
  },
  {
   "cell_type": "markdown",
   "id": "c5d02f8c",
   "metadata": {},
   "source": [
    "$r!(n-1)!$"
   ]
  },
  {
   "cell_type": "code",
   "execution_count": 7,
   "id": "09cc2040",
   "metadata": {},
   "outputs": [],
   "source": [
    "#Denominador combinaciones\n",
    "Den=r_fact*n_1"
   ]
  },
  {
   "cell_type": "markdown",
   "id": "24ddaf86",
   "metadata": {},
   "source": [
    "$$ \\frac{(n+r-1)!}{r!(n-1)!}$$ "
   ]
  },
  {
   "cell_type": "code",
   "execution_count": 8,
   "id": "d06ecfc5",
   "metadata": {},
   "outputs": [
    {
     "data": {
      "text/plain": [
       "15"
      ]
     },
     "execution_count": 8,
     "metadata": {},
     "output_type": "execute_result"
    }
   ],
   "source": [
    "RP=int(num/Den)\n",
    "RP"
   ]
  },
  {
   "cell_type": "markdown",
   "id": "2e2eee68",
   "metadata": {},
   "source": [
    "\n",
    "Esta seria la cantidad de formas en las que se podria distribuir 4 llaves de rojas, azules y verdes. Sin embargo, solo contamos con 3 de cada color. Por lo que se le restaria al valor dado la suma de las diferencias entre el tamaño de grupo que se pide ($4$) y la cantidad de elementos dentros del conjunto de cada color. Es decir, sie l conjunto de todas las llaves esta definido como $n$, los subconjuntos de las llaves estan definidos como ${n_i}$\n",
    "y la cantidad de elementos que se quieren agrupar es r ($r=4$), lo que tocaria expresar a la cantidad de combinaciones seria (siempre y cuando $card(n_i)\\leq r$):\n",
    "$$ \\sum_{i=0}^{2}{r-card(n_i)} $$\n",
    "\n",
    "\n"
   ]
  },
  {
   "cell_type": "code",
   "execution_count": 9,
   "id": "aa0fd941",
   "metadata": {},
   "outputs": [
    {
     "data": {
      "text/plain": [
       "3"
      ]
     },
     "execution_count": 9,
     "metadata": {},
     "output_type": "execute_result"
    }
   ],
   "source": [
    "#Resultado sumatoria\n",
    "sumatoria=np.sum(4-Llaves)\n",
    "sumatoria"
   ]
  },
  {
   "cell_type": "markdown",
   "id": "8b2b5ecc",
   "metadata": {},
   "source": [
    "Por lo tanto la expresión quedaría\n",
    "\n",
    "$$ \\frac{(n+r-1)!}{r!(n-1)!}-\\sum_{i=0}^{2}{r-card(n_i)}$$\n",
    "\n",
    "y en este problema, teniendo en cuenta que para todo $i$,$n_i=3$ se tiene que\n",
    "\n",
    "$$ \\frac{(3+4-1)!}{4!(3-1)!}-\\sum_{i=0}^{2}{4-n_i}$$\n",
    "\n",
    "Teniendo en cuenta que para todo $i$,$n_i=3$ se tiene que\n",
    "$$\\frac{(6)!}{4!(2)!}-3$$\n",
    "\n",
    "Dando como resultado \n",
    "$$ \\frac{6*5}{2} -3= 12$$"
   ]
  },
  {
   "cell_type": "code",
   "execution_count": 10,
   "id": "a4baa596",
   "metadata": {},
   "outputs": [
    {
     "data": {
      "text/plain": [
       "12"
      ]
     },
     "execution_count": 10,
     "metadata": {},
     "output_type": "execute_result"
    }
   ],
   "source": [
    "RP-sumatoria"
   ]
  }
 ],
 "metadata": {
  "kernelspec": {
   "display_name": "Python 3 (ipykernel)",
   "language": "python",
   "name": "python3"
  },
  "language_info": {
   "codemirror_mode": {
    "name": "ipython",
    "version": 3
   },
   "file_extension": ".py",
   "mimetype": "text/x-python",
   "name": "python",
   "nbconvert_exporter": "python",
   "pygments_lexer": "ipython3",
   "version": "3.10.9"
  }
 },
 "nbformat": 4,
 "nbformat_minor": 5
}
