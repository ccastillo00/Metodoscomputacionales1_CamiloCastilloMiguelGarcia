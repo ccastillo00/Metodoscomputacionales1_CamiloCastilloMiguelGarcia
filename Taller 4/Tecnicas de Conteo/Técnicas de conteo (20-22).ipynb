{
 "cells": [
  {
   "cell_type": "markdown",
   "id": "aa49c28c",
   "metadata": {},
   "source": [
    "**EJERCICIO 20**\n"
   ]
  },
  {
   "cell_type": "markdown",
   "id": "179c5a69",
   "metadata": {},
   "source": [
    "El número total de formas posibles de seleccionar } r \\text{ elementos permitiendo la repetición de elementos es:\n",
    "\n",
    "\n",
    "\\begin{equation}\n",
    "C(n, r) = \\frac{{n^r}}{{r!}}\n",
    "\\end{equation}\n",
    "\n",
    "Sin embargo, podemos expresar esta fórmula en términos de factoriales:\n",
    "\n",
    "\n",
    "\\begin{equation}\n",
    "r! = r \\cdot (r-1)!\n",
    "\\end{equation}\n",
    "\n",
    "\\begin{equation}\n",
    "(n + r - 1)! = (n + r - 1) \\cdot (n + r - 2)!\n",
    "\\end{equation}\n",
    "\n",
    "\n",
    "Por lo tanto, podemos reescribir la fórmula como:\n",
    "\n",
    "\n",
    "\\begin{equation}\n",
    "C(n, r) = \\frac{{n^r}}{{r \\cdot (r-1)!}}\n",
    "\\end{equation}\n",
    "\n",
    "\n",
    "Simplificando la expresión, obtenemos la fórmula final:\n",
    "\n",
    "\n",
    "\\begin{equation}\n",
    "C(n, r) = \\frac{{(n + r - 1)!}}{{r! \\cdot (n - 1)!}}\n",
    "\\end{equation}\n",
    "\n",
    "\n",
    "Esto demuestra la fórmula de las combinaciones con repetición:\n",
    "\n",
    "\n",
    "\\begin{equation}\n",
    "C(n, r) = \\frac{{(n + r - 1)!}}{{r! \\cdot (n - 1)!}}\n",
    "\\end{equation}"
   ]
  },
  {
   "cell_type": "markdown",
   "id": "4e34fcba",
   "metadata": {},
   "source": [
    "**EJERCICIO 22**"
   ]
  },
  {
   "cell_type": "markdown",
   "id": "135e6539",
   "metadata": {},
   "source": [
    "\\begin{equation}\n",
    "\\binom{10+2}{2} = \\binom{12}{2} = \\frac{12!}{(12-2)!2!} = \\frac{12 \\cdot 11}{2 \\cdot 1} = 66\n",
    "\\end{equation}\n",
    "\n",
    "Hay 66 sumas de 3 enteros no negativos que dan como resultado 10."
   ]
  },
  {
   "cell_type": "code",
   "execution_count": null,
   "id": "b40b3089",
   "metadata": {},
   "outputs": [],
   "source": []
  }
 ],
 "metadata": {
  "kernelspec": {
   "display_name": "Python 3 (ipykernel)",
   "language": "python",
   "name": "python3"
  },
  "language_info": {
   "codemirror_mode": {
    "name": "ipython",
    "version": 3
   },
   "file_extension": ".py",
   "mimetype": "text/x-python",
   "name": "python",
   "nbconvert_exporter": "python",
   "pygments_lexer": "ipython3",
   "version": "3.9.13"
  }
 },
 "nbformat": 4,
 "nbformat_minor": 5
}
